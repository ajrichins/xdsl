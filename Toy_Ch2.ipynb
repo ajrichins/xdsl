{
 "cells": [
  {
   "cell_type": "markdown",
   "id": "56341c66",
   "metadata": {},
   "source": [
    "# Chapter 2: Emitting Basic MLIR\n",
    "\n",
    "This is an xDSL version of the Toy compiler, as described in the [MLIR tutorial](https://mlir.llvm.org/docs/Tutorials/Toy/)\n",
    "\n",
    "This tutorial will be illustrated with a toy language that we’ll call “Toy” (naming is hard…). Toy is a tensor-based language that allows you to define functions, perform some math computation, and print results."
   ]
  },
  {
   "cell_type": "code",
   "execution_count": 1,
   "id": "0748a963",
   "metadata": {},
   "outputs": [],
   "source": [
    "import sys\n",
    "sys.path.append('../src')"
   ]
  },
  {
   "cell_type": "code",
   "execution_count": 1,
   "id": "8481b70d",
   "metadata": {},
   "outputs": [
    {
     "name": "stdout",
     "output_type": "stream",
     "text": [
      "%0 = \"toy.constant\"() {\"value\" = dense<["
     ]
    },
    {
     "ename": "Exception",
     "evalue": "unexpected attribute type in DenseIntOrFPElementsAttr: <class 'xdsl.dialects.builtin.FloatAttr'>",
     "output_type": "error",
     "traceback": [
      "\u001b[0;31m---------------------------------------------------------------------------\u001b[0m",
      "\u001b[0;31mException\u001b[0m                                 Traceback (most recent call last)",
      "\u001b[1;32m/Users/sasha/Develop/xdslproject/xdsl/src/Toy_Ch2.ipynb Cell 3\u001b[0m in \u001b[0;36m<cell line: 60>\u001b[0;34m()\u001b[0m\n\u001b[1;32m     <a href='vscode-notebook-cell:/Users/sasha/Develop/xdslproject/xdsl/src/Toy_Ch2.ipynb#W2sZmlsZQ%3D%3D?line=54'>55</a>\u001b[0m     \u001b[39m# def print(self, printer: Printer):\u001b[39;00m\n\u001b[1;32m     <a href='vscode-notebook-cell:/Users/sasha/Develop/xdslproject/xdsl/src/Toy_Ch2.ipynb#W2sZmlsZQ%3D%3D?line=55'>56</a>\u001b[0m     \u001b[39m#     printer.print_attribute(self.attributes['value'])\u001b[39;00m\n\u001b[1;32m     <a href='vscode-notebook-cell:/Users/sasha/Develop/xdslproject/xdsl/src/Toy_Ch2.ipynb#W2sZmlsZQ%3D%3D?line=56'>57</a>\u001b[0m         \u001b[39m# printer.print(' bla')\u001b[39;00m\n\u001b[1;32m     <a href='vscode-notebook-cell:/Users/sasha/Develop/xdslproject/xdsl/src/Toy_Ch2.ipynb#W2sZmlsZQ%3D%3D?line=58'>59</a>\u001b[0m const_op \u001b[39m=\u001b[39m ConstantOp\u001b[39m.\u001b[39mfrom_list([\u001b[39m1.0\u001b[39m, \u001b[39m2.0\u001b[39m, \u001b[39m3.0\u001b[39m, \u001b[39m4.0\u001b[39m, \u001b[39m5.0\u001b[39m, \u001b[39m6.0\u001b[39m], [\u001b[39m2\u001b[39m, \u001b[39m3\u001b[39m])\n\u001b[0;32m---> <a href='vscode-notebook-cell:/Users/sasha/Develop/xdslproject/xdsl/src/Toy_Ch2.ipynb#W2sZmlsZQ%3D%3D?line=59'>60</a>\u001b[0m printer\u001b[39m.\u001b[39;49mprint_op(const_op)\n",
      "File \u001b[0;32m~/Develop/xdslproject/xdsl/src/xdsl/printer.py:516\u001b[0m, in \u001b[0;36mPrinter.print_op\u001b[0;34m(self, op)\u001b[0m\n\u001b[1;32m    515\u001b[0m \u001b[39mdef\u001b[39;00m \u001b[39mprint_op\u001b[39m(\u001b[39mself\u001b[39m, op: Operation) \u001b[39m-\u001b[39m\u001b[39m>\u001b[39m \u001b[39mNone\u001b[39;00m:\n\u001b[0;32m--> 516\u001b[0m     \u001b[39mself\u001b[39;49m\u001b[39m.\u001b[39;49m_print_op(op)\n\u001b[1;32m    517\u001b[0m     \u001b[39mself\u001b[39m\u001b[39m.\u001b[39m_print_new_line()\n",
      "File \u001b[0;32m~/Develop/xdslproject/xdsl/src/xdsl/printer.py:511\u001b[0m, in \u001b[0;36mPrinter._print_op\u001b[0;34m(self, op)\u001b[0m\n\u001b[1;32m    508\u001b[0m         \u001b[39mself\u001b[39m\u001b[39m.\u001b[39m_add_message_on_next_line(message, begin_op_pos,\n\u001b[1;32m    509\u001b[0m                                        end_op_pos)\n\u001b[1;32m    510\u001b[0m \u001b[39mif\u001b[39;00m \u001b[39mself\u001b[39m\u001b[39m.\u001b[39mprint_generic_format \u001b[39mor\u001b[39;00m \u001b[39mself\u001b[39m\u001b[39m.\u001b[39mtarget \u001b[39m==\u001b[39m \u001b[39mself\u001b[39m\u001b[39m.\u001b[39mTarget\u001b[39m.\u001b[39mMLIR:\n\u001b[0;32m--> 511\u001b[0m     \u001b[39mself\u001b[39;49m\u001b[39m.\u001b[39;49mprint_op_with_default_format(op)\n\u001b[1;32m    512\u001b[0m \u001b[39melse\u001b[39;00m:\n\u001b[1;32m    513\u001b[0m     op\u001b[39m.\u001b[39mprint(\u001b[39mself\u001b[39m)\n",
      "File \u001b[0;32m~/Develop/xdslproject/xdsl/src/xdsl/printer.py:474\u001b[0m, in \u001b[0;36mPrinter.print_op_with_default_format\u001b[0;34m(self, op)\u001b[0m\n\u001b[1;32m    472\u001b[0m \u001b[39melse\u001b[39;00m:\n\u001b[1;32m    473\u001b[0m     \u001b[39mself\u001b[39m\u001b[39m.\u001b[39mprint_regions(op\u001b[39m.\u001b[39mregions)\n\u001b[0;32m--> 474\u001b[0m     \u001b[39mself\u001b[39;49m\u001b[39m.\u001b[39;49m_print_op_attributes(op\u001b[39m.\u001b[39;49mattributes)\n\u001b[1;32m    476\u001b[0m \u001b[39m# Print the operation type\u001b[39;00m\n\u001b[1;32m    477\u001b[0m \u001b[39mif\u001b[39;00m \u001b[39mself\u001b[39m\u001b[39m.\u001b[39mtarget \u001b[39m==\u001b[39m \u001b[39mself\u001b[39m\u001b[39m.\u001b[39mTarget\u001b[39m.\u001b[39mMLIR:\n",
      "File \u001b[0;32m~/Develop/xdslproject/xdsl/src/xdsl/printer.py:460\u001b[0m, in \u001b[0;36mPrinter._print_op_attributes\u001b[0;34m(self, attributes)\u001b[0m\n\u001b[1;32m    457\u001b[0m \u001b[39mself\u001b[39m\u001b[39m.\u001b[39mprint(\u001b[39m\"\u001b[39m\u001b[39m[\u001b[39m\u001b[39m\"\u001b[39m \u001b[39mif\u001b[39;00m \u001b[39mself\u001b[39m\u001b[39m.\u001b[39mtarget \u001b[39m==\u001b[39m Printer\u001b[39m.\u001b[39mTarget\u001b[39m.\u001b[39mXDSL \u001b[39melse\u001b[39;00m \u001b[39m\"\u001b[39m\u001b[39m{\u001b[39m\u001b[39m\"\u001b[39m)\n\u001b[1;32m    459\u001b[0m attribute_list \u001b[39m=\u001b[39m [p \u001b[39mfor\u001b[39;00m p \u001b[39min\u001b[39;00m attributes\u001b[39m.\u001b[39mitems()]\n\u001b[0;32m--> 460\u001b[0m \u001b[39mself\u001b[39;49m\u001b[39m.\u001b[39;49mprint_list(attribute_list, \u001b[39mself\u001b[39;49m\u001b[39m.\u001b[39;49m_print_attr_string)\n\u001b[1;32m    462\u001b[0m \u001b[39mself\u001b[39m\u001b[39m.\u001b[39mprint(\u001b[39m\"\u001b[39m\u001b[39m]\u001b[39m\u001b[39m\"\u001b[39m \u001b[39mif\u001b[39;00m \u001b[39mself\u001b[39m\u001b[39m.\u001b[39mtarget \u001b[39m==\u001b[39m Printer\u001b[39m.\u001b[39mTarget\u001b[39m.\u001b[39mXDSL \u001b[39melse\u001b[39;00m \u001b[39m\"\u001b[39m\u001b[39m}\u001b[39m\u001b[39m\"\u001b[39m)\n",
      "File \u001b[0;32m~/Develop/xdslproject/xdsl/src/xdsl/printer.py:120\u001b[0m, in \u001b[0;36mPrinter.print_list\u001b[0;34m(self, elems, print_fn, delimiter)\u001b[0m\n\u001b[1;32m    118\u001b[0m \u001b[39mif\u001b[39;00m \u001b[39mlen\u001b[39m(elems) \u001b[39m==\u001b[39m \u001b[39m0\u001b[39m:\n\u001b[1;32m    119\u001b[0m     \u001b[39mreturn\u001b[39;00m\n\u001b[0;32m--> 120\u001b[0m print_fn(elems[\u001b[39m0\u001b[39;49m])\n\u001b[1;32m    121\u001b[0m \u001b[39mfor\u001b[39;00m elem \u001b[39min\u001b[39;00m elems[\u001b[39m1\u001b[39m:]:\n\u001b[1;32m    122\u001b[0m     \u001b[39mself\u001b[39m\u001b[39m.\u001b[39mprint(delimiter)\n",
      "File \u001b[0;32m~/Develop/xdslproject/xdsl/src/xdsl/printer.py:450\u001b[0m, in \u001b[0;36mPrinter._print_attr_string\u001b[0;34m(self, attr_tuple)\u001b[0m\n\u001b[1;32m    448\u001b[0m \u001b[39melse\u001b[39;00m:\n\u001b[1;32m    449\u001b[0m     \u001b[39mself\u001b[39m\u001b[39m.\u001b[39mprint(\u001b[39mf\u001b[39m\u001b[39m\"\u001b[39m\u001b[39m\\\"\u001b[39;00m\u001b[39m{\u001b[39;00mattr_tuple[\u001b[39m0\u001b[39m]\u001b[39m}\u001b[39;00m\u001b[39m\\\"\u001b[39;00m\u001b[39m = \u001b[39m\u001b[39m\"\u001b[39m)\n\u001b[0;32m--> 450\u001b[0m     \u001b[39mself\u001b[39;49m\u001b[39m.\u001b[39;49mprint_attribute(attr_tuple[\u001b[39m1\u001b[39;49m])\n",
      "File \u001b[0;32m~/Develop/xdslproject/xdsl/src/xdsl/printer.py:367\u001b[0m, in \u001b[0;36mPrinter.print_attribute\u001b[0;34m(self, attribute)\u001b[0m\n\u001b[1;32m    364\u001b[0m     \u001b[39mself\u001b[39m\u001b[39m.\u001b[39mprint(\u001b[39m\"\u001b[39m\u001b[39m]\u001b[39m\u001b[39m\"\u001b[39m)\n\u001b[1;32m    366\u001b[0m \u001b[39mself\u001b[39m\u001b[39m.\u001b[39mprint(\u001b[39m\"\u001b[39m\u001b[39mdense<\u001b[39m\u001b[39m\"\u001b[39m)\n\u001b[0;32m--> 367\u001b[0m print_dense_list(attribute\u001b[39m.\u001b[39;49mdata)\n\u001b[1;32m    368\u001b[0m \u001b[39mself\u001b[39m\u001b[39m.\u001b[39mprint(\u001b[39m\"\u001b[39m\u001b[39m> : \u001b[39m\u001b[39m\"\u001b[39m)\n\u001b[1;32m    369\u001b[0m \u001b[39mself\u001b[39m\u001b[39m.\u001b[39mprint(attribute\u001b[39m.\u001b[39mtype)\n",
      "File \u001b[0;32m~/Develop/xdslproject/xdsl/src/xdsl/printer.py:363\u001b[0m, in \u001b[0;36mPrinter.print_attribute.<locals>.print_dense_list\u001b[0;34m(array)\u001b[0m\n\u001b[1;32m    358\u001b[0m         \u001b[39mraise\u001b[39;00m \u001b[39mException\u001b[39;00m(\u001b[39m\"\u001b[39m\u001b[39munexpected attribute type \u001b[39m\u001b[39m\"\u001b[39m\n\u001b[1;32m    359\u001b[0m                         \u001b[39m\"\u001b[39m\u001b[39min DenseIntOrFPElementsAttr: \u001b[39m\u001b[39m\"\u001b[39m\n\u001b[1;32m    360\u001b[0m                         \u001b[39mf\u001b[39m\u001b[39m\"\u001b[39m\u001b[39m{\u001b[39;00m\u001b[39mtype\u001b[39m(val)\u001b[39m}\u001b[39;00m\u001b[39m\"\u001b[39m)\n\u001b[1;32m    362\u001b[0m \u001b[39mself\u001b[39m\u001b[39m.\u001b[39mprint(\u001b[39m\"\u001b[39m\u001b[39m[\u001b[39m\u001b[39m\"\u001b[39m)\n\u001b[0;32m--> 363\u001b[0m \u001b[39mself\u001b[39;49m\u001b[39m.\u001b[39;49mprint_list(array\u001b[39m.\u001b[39;49mdata, print_one_elem)\n\u001b[1;32m    364\u001b[0m \u001b[39mself\u001b[39m\u001b[39m.\u001b[39mprint(\u001b[39m\"\u001b[39m\u001b[39m]\u001b[39m\u001b[39m\"\u001b[39m)\n",
      "File \u001b[0;32m~/Develop/xdslproject/xdsl/src/xdsl/printer.py:120\u001b[0m, in \u001b[0;36mPrinter.print_list\u001b[0;34m(self, elems, print_fn, delimiter)\u001b[0m\n\u001b[1;32m    118\u001b[0m \u001b[39mif\u001b[39;00m \u001b[39mlen\u001b[39m(elems) \u001b[39m==\u001b[39m \u001b[39m0\u001b[39m:\n\u001b[1;32m    119\u001b[0m     \u001b[39mreturn\u001b[39;00m\n\u001b[0;32m--> 120\u001b[0m print_fn(elems[\u001b[39m0\u001b[39;49m])\n\u001b[1;32m    121\u001b[0m \u001b[39mfor\u001b[39;00m elem \u001b[39min\u001b[39;00m elems[\u001b[39m1\u001b[39m:]:\n\u001b[1;32m    122\u001b[0m     \u001b[39mself\u001b[39m\u001b[39m.\u001b[39mprint(delimiter)\n",
      "File \u001b[0;32m~/Develop/xdslproject/xdsl/src/xdsl/printer.py:358\u001b[0m, in \u001b[0;36mPrinter.print_attribute.<locals>.print_dense_list.<locals>.print_one_elem\u001b[0;34m(val)\u001b[0m\n\u001b[1;32m    356\u001b[0m     \u001b[39mself\u001b[39m\u001b[39m.\u001b[39mprint(val\u001b[39m.\u001b[39mvalue\u001b[39m.\u001b[39mdata)\n\u001b[1;32m    357\u001b[0m \u001b[39melse\u001b[39;00m:\n\u001b[0;32m--> 358\u001b[0m     \u001b[39mraise\u001b[39;00m \u001b[39mException\u001b[39;00m(\u001b[39m\"\u001b[39m\u001b[39munexpected attribute type \u001b[39m\u001b[39m\"\u001b[39m\n\u001b[1;32m    359\u001b[0m                     \u001b[39m\"\u001b[39m\u001b[39min DenseIntOrFPElementsAttr: \u001b[39m\u001b[39m\"\u001b[39m\n\u001b[1;32m    360\u001b[0m                     \u001b[39mf\u001b[39m\u001b[39m\"\u001b[39m\u001b[39m{\u001b[39;00m\u001b[39mtype\u001b[39m(val)\u001b[39m}\u001b[39;00m\u001b[39m\"\u001b[39m)\n",
      "\u001b[0;31mException\u001b[0m: unexpected attribute type in DenseIntOrFPElementsAttr: <class 'xdsl.dialects.builtin.FloatAttr'>"
     ]
    }
   ],
   "source": [
    "from xdsl import *\n",
    "from xdsl.ir import *\n",
    "from xdsl.irdl import *\n",
    "from xdsl.dialects.func import *\n",
    "from xdsl.dialects.arith import *\n",
    "from xdsl.dialects.builtin import *\n",
    "from xdsl.parser import *\n",
    "from xdsl.printer import *\n",
    "from xdsl.util import *\n",
    "\n",
    "# MLContext, containing information about the registered dialects\n",
    "context = MLContext()\n",
    "\n",
    "# Some useful dialects\n",
    "arith = Arith(context)\n",
    "func = Func(context)\n",
    "builtin = Builtin(context)\n",
    "\n",
    "# Printer used to pretty-print MLIR data structures\n",
    "printer = Printer(target=Printer.Target.MLIR)\n",
    "\n",
    "@dataclass\n",
    "class Toy:\n",
    "    ctx: MLContext\n",
    "\n",
    "    def __post_init__(self):\n",
    "        self.ctx.register_op(ConstantOp)\n",
    "        # self.ctx.register_op(Call)\n",
    "        # self.ctx.register_op(Return)\n",
    "\n",
    "TensorTypeF64 = TensorType.from_type_and_list(f64)\n",
    "\n",
    "@irdl_op_definition\n",
    "class ConstantOp(Operation):\n",
    "    '''\n",
    "    Constant operation turns a literal into an SSA value. The data is attached\n",
    "    to the operation as an attribute. For example:\n",
    "\n",
    "    ```mlir\n",
    "      %0 = toy.constant dense<[[1.0, 2.0, 3.0], [4.0, 5.0, 6.0]]>\n",
    "                        : tensor<2x3xf64>\n",
    "    ```\n",
    "    '''\n",
    "    name: str = \"toy.constant\"\n",
    "    result = ResultDef(AnyAttr()) #TensorType[F64])\n",
    "    value = AttributeDef(AnyAttr()) #F64ElementsAttr\n",
    "\n",
    "    # TODO verify that the result and value type are equal\n",
    "\n",
    "    @staticmethod\n",
    "    def from_list(data: List[float], shape: List[int] = []):\n",
    "        value = DenseIntOrFPElementsAttr.tensor_from_list(data, f64, shape)\n",
    "        return ConstantOp.create(result_types=[value.type], attributes={\"value\": value})\n",
    "\n",
    "    # def print(self, printer: Printer):\n",
    "    #     printer.print_attribute(self.attributes['value'])\n",
    "        # printer.print(' bla')\n",
    "\n",
    "const_op = ConstantOp.from_list([1.0, 2.0, 3.0, 4.0, 5.0, 6.0], [2, 3])\n",
    "printer.print_op(const_op)"
   ]
  },
  {
   "cell_type": "code",
   "execution_count": null,
   "id": "e798e5c8",
   "metadata": {},
   "outputs": [],
   "source": []
  },
  {
   "cell_type": "code",
   "execution_count": 3,
   "id": "56359230",
   "metadata": {},
   "outputs": [
    {
     "name": "stdout",
     "output_type": "stream",
     "text": [
      "!int<42>"
     ]
    }
   ],
   "source": [
    "my_int = IntAttr.from_int(42)\n",
    "printer.print_attribute(my_int)"
   ]
  },
  {
   "cell_type": "code",
   "execution_count": 4,
   "id": "7c1c094f",
   "metadata": {},
   "outputs": [],
   "source": [
    "from pathlib import Path\n",
    "\n",
    "ast_toy = Path() / 'toy' / 'ast.toy'"
   ]
  },
  {
   "cell_type": "code",
   "execution_count": 5,
   "id": "a28a85e1",
   "metadata": {},
   "outputs": [
    {
     "name": "stdout",
     "output_type": "stream",
     "text": [
      "# RUN: toyc-ch1 %s -emit=ast 2>&1 | FileCheck %s\n",
      "\n",
      "# User defined generic function that operates on unknown shaped arguments.\n",
      "def multiply_transpose(a, b) {\n",
      "  return transpose(a) * transpose(b);\n",
      "}\n",
      "\n",
      "def main() {\n",
      "  # Define a variable `a` with shape <2, 3>, initialized with the literal value.\n",
      "  # The shape is inferred from the supplied literal.\n",
      "  var a = [[1, 2, 3], [4, 5, 6]];\n",
      "  # b is identical to a, the literal array is implicitly reshaped: defining new\n",
      "  # variables is the way to reshape arrays (element count in literal must match\n",
      "  # the size of specified shape).\n",
      "  var b<2, 3> = [1, 2, 3, 4, 5, 6];\n",
      "\n",
      "  # This call will specialize `multiply_transpose` with <2, 3> for both\n",
      "  # arguments and deduce a return type of <2, 2> in initialization of `c`.\n",
      "  var c = multiply_transpose(a, b);\n",
      "  # A second call to `multiply_transpose` with <2, 3> for both arguments will\n",
      "  # reuse the previously specialized and inferred version and return `<2, 2>`\n",
      "  var d = multiply_transpose(b, a);\n",
      "  # A new call with `<2, 2>` for both dimension will trigger another\n",
      "  # specialization of `multiply_transpose`.\n",
      "  var e = multiply_transpose(b, c);\n",
      "  # Finally, calling into `multiply_transpose` with incompatible shape will\n",
      "  # trigger a shape inference error.\n",
      "  var f = multiply_transpose(transpose(a), c);\n",
      "}\n",
      "\n",
      "\n",
      "# CHECK: Module:\n",
      "# CHECK-NEXT:     Function\n",
      "# CHECK-NEXT:       Proto 'multiply_transpose' @{{.*}}ast.toy:4:1\n",
      "# CHECK-NEXT:       Params: [a, b]\n",
      "# CHECK-NEXT:       Block {\n",
      "# CHECK-NEXT:         Return\n",
      "# CHECK-NEXT:           BinOp: * @{{.*}}ast.toy:5:25\n",
      "# CHECK-NEXT:             Call 'transpose' [ @{{.*}}ast.toy:5:10\n",
      "# CHECK-NEXT:               var: a @{{.*}}ast.toy:5:20\n",
      "# CHECK-NEXT:             ]\n",
      "# CHECK-NEXT:             Call 'transpose' [ @{{.*}}ast.toy:5:25\n",
      "# CHECK-NEXT:               var: b @{{.*}}ast.toy:5:35\n",
      "# CHECK-NEXT:             ]\n",
      "# CHECK-NEXT:       } // Block\n",
      "# CHECK-NEXT:     Function\n",
      "# CHECK-NEXT:       Proto 'main' @{{.*}}ast.toy:8:1\n",
      "# CHECK-NEXT:       Params: []\n",
      "# CHECK-NEXT:       Block {\n",
      "# CHECK-NEXT:         VarDecl a<> @{{.*}}ast.toy:11:3\n",
      "# CHECK-NEXT:           Literal: <2, 3>[ <3>[ 1.000000e+00, 2.000000e+00, 3.000000e+00], <3>[ 4.000000e+00, 5.000000e+00, 6.000000e+00]] @{{.*}}ast.toy:11:11\n",
      "# CHECK-NEXT:         VarDecl b<2, 3> @{{.*}}ast.toy:15:3\n",
      "# CHECK-NEXT:           Literal: <6>[ 1.000000e+00, 2.000000e+00, 3.000000e+00, 4.000000e+00, 5.000000e+00, 6.000000e+00] @{{.*}}ast.toy:15:17\n",
      "# CHECK-NEXT:         VarDecl c<> @{{.*}}ast.toy:19:3\n",
      "# CHECK-NEXT:           Call 'multiply_transpose' [ @{{.*}}ast.toy:19:11\n",
      "# CHECK-NEXT:             var: a @{{.*}}ast.toy:19:30\n",
      "# CHECK-NEXT:             var: b @{{.*}}ast.toy:19:33\n",
      "# CHECK-NEXT:           ]\n",
      "# CHECK-NEXT:         VarDecl d<> @{{.*}}ast.toy:22:3\n",
      "# CHECK-NEXT:           Call 'multiply_transpose' [ @{{.*}}ast.toy:22:11\n",
      "# CHECK-NEXT:             var: b @{{.*}}ast.toy:22:30\n",
      "# CHECK-NEXT:             var: a @{{.*}}ast.toy:22:33\n",
      "# CHECK-NEXT:           ]\n",
      "# CHECK-NEXT:         VarDecl e<> @{{.*}}ast.toy:25:3\n",
      "# CHECK-NEXT:           Call 'multiply_transpose' [ @{{.*}}ast.toy:25:11\n",
      "# CHECK-NEXT:             var: b @{{.*}}ast.toy:25:30\n",
      "# CHECK-NEXT:             var: c @{{.*}}ast.toy:25:33\n",
      "# CHECK-NEXT:           ]\n",
      "# CHECK-NEXT:         VarDecl f<> @{{.*}}ast.toy:28:3\n",
      "# CHECK-NEXT:           Call 'multiply_transpose' [ @{{.*}}ast.toy:28:11\n",
      "# CHECK-NEXT:             Call 'transpose' [ @{{.*}}ast.toy:28:30\n",
      "# CHECK-NEXT:               var: a @{{.*}}ast.toy:28:40\n",
      "# CHECK-NEXT:             ]\n",
      "# CHECK-NEXT:             var: c @{{.*}}ast.toy:28:44\n",
      "# CHECK-NEXT:           ]\n",
      "\n",
      "\n"
     ]
    }
   ],
   "source": [
    "with open(ast_toy, 'r') as f:\n",
    "    print(f.read())"
   ]
  },
  {
   "cell_type": "code",
   "execution_count": 6,
   "id": "dd72492f",
   "metadata": {},
   "outputs": [
    {
     "name": "stdout",
     "output_type": "stream",
     "text": [
      "Module:\n",
      "  Function \n",
      "    Proto 'multiply_transpose' toy/ast.toy:4:1'\n",
      "    Params: [a, b]\n",
      "    Block {\n",
      "      Return\n",
      "        BinOp: * toy/ast.toy:5:25\n",
      "          Call 'transpose' [ toy/ast.toy:5:10\n",
      "            var: a toy/ast.toy:5:20\n",
      "          ]\n",
      "          Call 'transpose' [ toy/ast.toy:5:25\n",
      "            var: b toy/ast.toy:5:35\n",
      "          ]\n",
      "    } // Block\n",
      "  Function \n",
      "    Proto 'main' toy/ast.toy:8:1'\n",
      "    Params: []\n",
      "    Block {\n",
      "      VarDecl a<> toy/ast.toy:11:3\n",
      "        Literal: <2, 3>[ <3>[ 1.000000e+00, 2.000000e+00, 3.000000e+00], <3>[ 4.000000e+00, 5.000000e+00, 6.000000e+00]] toy/ast.toy:11:11\n",
      "      VarDecl b<2, 3> toy/ast.toy:15:3\n",
      "        Literal: <6>[ 1.000000e+00, 2.000000e+00, 3.000000e+00, 4.000000e+00, 5.000000e+00, 6.000000e+00] toy/ast.toy:15:17\n",
      "      VarDecl c<> toy/ast.toy:19:3\n",
      "        Call 'multiply_transpose' [ toy/ast.toy:19:11\n",
      "          var: a toy/ast.toy:19:30\n",
      "          var: b toy/ast.toy:19:33\n",
      "        ]\n",
      "      VarDecl d<> toy/ast.toy:22:3\n",
      "        Call 'multiply_transpose' [ toy/ast.toy:22:11\n",
      "          var: b toy/ast.toy:22:30\n",
      "          var: a toy/ast.toy:22:33\n",
      "        ]\n",
      "      VarDecl e<> toy/ast.toy:25:3\n",
      "        Call 'multiply_transpose' [ toy/ast.toy:25:11\n",
      "          var: b toy/ast.toy:25:30\n",
      "          var: c toy/ast.toy:25:33\n",
      "        ]\n",
      "      VarDecl f<> toy/ast.toy:28:3\n",
      "        Call 'multiply_transpose' [ toy/ast.toy:28:11\n",
      "          Call 'transpose' [ toy/ast.toy:28:30\n",
      "            var: a toy/ast.toy:28:40\n",
      "          ]\n",
      "          var: c toy/ast.toy:28:44\n",
      "        ]\n",
      "    } // Block\n",
      "\n"
     ]
    }
   ],
   "source": [
    "from toy.Parser import Parser\n",
    "\n",
    "with open(ast_toy, 'r') as f:\n",
    "    parser = Parser(ast_toy, f.read())\n",
    "\n",
    "print(parser.parseModule().dump())"
   ]
  },
  {
   "cell_type": "code",
   "execution_count": null,
   "id": "457b149b",
   "metadata": {},
   "outputs": [],
   "source": []
  }
 ],
 "metadata": {
  "kernelspec": {
   "display_name": "Python 3.10.5 ('venv': venv)",
   "language": "python",
   "name": "python3"
  },
  "language_info": {
   "codemirror_mode": {
    "name": "ipython",
    "version": 3
   },
   "file_extension": ".py",
   "mimetype": "text/x-python",
   "name": "python",
   "nbconvert_exporter": "python",
   "pygments_lexer": "ipython3",
   "version": "3.10.5"
  },
  "vscode": {
   "interpreter": {
    "hash": "fda08596110b9a36b84966695987440228e4b909cf8fcaa87f570c5f74df3470"
   }
  }
 },
 "nbformat": 4,
 "nbformat_minor": 5
}
