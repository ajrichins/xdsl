{
 "cells": [
  {
   "cell_type": "markdown",
   "metadata": {},
   "source": [
    "\n",
    "# Setup\n",
    "For this to work be sure to add the project to your PYTHONPATH, e.g. `export PYTHONPATH=$PYTHONPATH:/path/to/xdsl/src`"
   ]
  },
  {
   "cell_type": "code",
   "execution_count": 14,
   "metadata": {},
   "outputs": [
    {
     "data": {
      "text/plain": [
       "Affine(ctx=MLContext(_registeredOps={'arith.constant': <class 'xdsl.dialects.arith.Constant'>, 'arith.addi': <class 'xdsl.dialects.arith.Addi'>, 'arith.muli': <class 'xdsl.dialects.arith.Muli'>, 'arith.subi': <class 'xdsl.dialects.arith.Subi'>, 'arith.floordivsi': <class 'xdsl.dialects.arith.FloorDiviSI'>, 'arith.remsi': <class 'xdsl.dialects.arith.RemSI'>, 'arith.addf': <class 'xdsl.dialects.arith.Addf'>, 'arith.mulf': <class 'xdsl.dialects.arith.Mulf'>, 'arith.cmpi': <class 'xdsl.dialects.arith.Cmpi'>, 'arith.andi': <class 'xdsl.dialects.arith.AndI'>, 'arith.ori': <class 'xdsl.dialects.arith.OrI'>, 'arith.xori': <class 'xdsl.dialects.arith.XOrI'>, 'module': <class 'xdsl.dialects.builtin.ModuleOp'>, 'func.func': <class 'xdsl.dialects.func.FuncOp'>, 'func.call': <class 'xdsl.dialects.func.Call'>, 'func.return': <class 'xdsl.dialects.func.Return'>, 'scf.if': <class 'xdsl.dialects.scf.If'>, 'scf.yield': <class 'xdsl.dialects.scf.Yield'>, 'scf.condition': <class 'xdsl.dialects.scf.Condition'>, 'scf.while': <class 'xdsl.dialects.scf.While'>, 'memref.load': <class 'xdsl.dialects.memref.Load'>, 'memref.store': <class 'xdsl.dialects.memref.Store'>, 'memref.alloc': <class 'xdsl.dialects.memref.Alloc'>, 'memref.alloca': <class 'xdsl.dialects.memref.Alloca'>, 'memref.dealloc': <class 'xdsl.dialects.memref.Dealloc'>, 'memref.get_global': <class 'xdsl.dialects.memref.GetGlobal'>, 'memref.global': <class 'xdsl.dialects.memref.Global'>, 'affine.for': <class 'xdsl.dialects.affine.For'>, 'affine.yield': <class 'xdsl.dialects.affine.Yield'>}, _registeredAttrs={'string': <class 'xdsl.dialects.builtin.StringAttr'>, 'flat_symbol_ref': <class 'xdsl.dialects.builtin.FlatSymbolRefAttr'>, 'symbol_name': <class 'xdsl.dialects.builtin.SymbolNameAttr'>, 'int': <class 'xdsl.dialects.builtin.IntAttr'>, 'integer': <class 'xdsl.dialects.builtin.IntegerAttr'>, 'array': <class 'xdsl.dialects.builtin.ArrayAttr'>, 'vector': <class 'xdsl.dialects.builtin.VectorType'>, 'tensor': <class 'xdsl.dialects.builtin.TensorType'>, 'dense': <class 'xdsl.dialects.builtin.DenseIntOrFPElementsAttr'>, 'unit': <class 'xdsl.dialects.builtin.UnitAttr'>, 'fun': <class 'xdsl.dialects.builtin.FunctionType'>, 'f32': <class 'xdsl.dialects.builtin.Float32Type'>, 'integer_type': <class 'xdsl.dialects.builtin.IntegerType'>, 'index': <class 'xdsl.dialects.builtin.IndexType'>, 'memref': <class 'xdsl.dialects.memref.MemRefType'>}))"
      ]
     },
     "execution_count": 14,
     "metadata": {},
     "output_type": "execute_result"
    }
   ],
   "source": [
    "from xdsl.parser import Parser\n",
    "from xdsl.printer import Printer\n",
    "import xdsl.dialects.arith as arith\n",
    "import xdsl.dialects.affine as affine\n",
    "import xdsl.dialects.scf as scf\n",
    "import xdsl.dialects.func as func\n",
    "import xdsl.dialects.builtin as builtin\n",
    "import xdsl.dialects.memref as memref\n",
    "from xdsl.elevate import *\n",
    "from xdsl.immutable_ir import *\n",
    "import sys\n",
    "sys.path.append('${workspaceFolder}')\n",
    "sys.path.append('${workspaceFolder}/src')\n",
    "\n",
    "# MLContext, containing information about the registered dialects\n",
    "ctx = MLContext()\n",
    "\n",
    "# Init dialects\n",
    "arith.Arith(ctx)\n",
    "builtin.Builtin(ctx)\n",
    "func.Func(ctx)\n",
    "scf.Scf(ctx)\n",
    "memref.MemRef(ctx)\n",
    "affine.Affine(ctx)"
   ]
  },
  {
   "cell_type": "code",
   "execution_count": 2,
   "metadata": {},
   "outputs": [
    {
     "name": "stdout",
     "output_type": "stream",
     "text": [
      "module() {\n",
      "  func.func() [\"type\" = !fun<[], [!i32]>] {\n",
      "    %0 : !i32 = arith.constant() [\"value\" = 4 : !i32]\n",
      "    %1 : !i32 = arith.constant() [\"value\" = 2 : !i32]\n",
      "    %2 : !i32 = arith.constant() [\"value\" = 1 : !i32]\n",
      "    %3 : !i32 = arith.addi(%2 : !i32, %1 : !i32)\n",
      "    %4 : !i32 = arith.addi(%3 : !i32, %0 : !i32)\n",
      "    func.return(%4 : !i32)\n",
      "  }\n",
      "}\n"
     ]
    }
   ],
   "source": [
    "IR = \\\n",
    "\"\"\"module() {\n",
    "  func.func()[\"type\" = !fun<[], [!i32]>] {\n",
    "    %0 : !i32 = arith.constant() [\"value\" = 4 : !i32]\n",
    "    %1 : !i32 = arith.constant() [\"value\" = 2 : !i32]\n",
    "    %2 : !i32 = arith.constant() [\"value\" = 1 : !i32]\n",
    "    %3 : !i32 = arith.addi(%2 : !i32, %1 : !i32)\n",
    "    %4 : !i32 = arith.addi(%3 : !i32, %0 : !i32)\n",
    "    func.return(%4 : !i32)\n",
    "  }\n",
    "}\n",
    "\"\"\"\n",
    "parser = Parser(ctx, IR)\n",
    "module: Operation = parser.parse_op()\n",
    "\n",
    "printer = Printer()\n",
    "printer.print_op(module)\n",
    "\n"
   ]
  },
  {
   "cell_type": "markdown",
   "metadata": {},
   "source": [
    "# Rewrites\n",
    "- operate on immutableIR\n",
    "- match a single root `op` and replace it\n",
    "- no way to reference parents (Block, Region, op) of matched `op`"
   ]
  },
  {
   "cell_type": "code",
   "execution_count": 5,
   "metadata": {},
   "outputs": [
    {
     "name": "stdout",
     "output_type": "stream",
     "text": [
      "before:\n",
      "module() {\n",
      "  func.func() [\"type\" = !fun<[], [!i32]>] {\n",
      "    %0 : !i32 = arith.constant() [\"value\" = 4 : !i32]\n",
      "    %1 : !i32 = arith.constant() [\"value\" = 2 : !i32]\n",
      "    %2 : !i32 = arith.constant() [\"value\" = 1 : !i32]\n",
      "    %3 : !i32 = arith.addi(%2 : !i32, %1 : !i32)\n",
      "    %4 : !i32 = arith.addi(%3 : !i32, %0 : !i32)\n",
      "    func.return(%4 : !i32)\n",
      "  }\n",
      "}\n",
      "after AddZero Rewrite:\n",
      "module() {\n",
      "  func.func() [\"type\" = !fun<[], [!i32]>] {\n",
      "    %0 : !i32 = arith.constant() [\"value\" = 4 : !i32]\n",
      "    %1 : !i32 = arith.constant() [\"value\" = 0 : !i32]\n",
      "    %2 : !i32 = arith.addi(%0 : !i32, %1 : !i32)\n",
      "    %3 : !i32 = arith.constant() [\"value\" = 2 : !i32]\n",
      "    %4 : !i32 = arith.constant() [\"value\" = 1 : !i32]\n",
      "    %5 : !i32 = arith.addi(%4 : !i32, %3 : !i32)\n",
      "    %6 : !i32 = arith.addi(%5 : !i32, %2 : !i32)\n",
      "    func.return(%6 : !i32)\n",
      "  }\n",
      "}\n"
     ]
    }
   ],
   "source": [
    "imm_module: IOp = get_immutable_copy(module)\n",
    "\n",
    "\n",
    "@dataclass(frozen=True)\n",
    "class AddZero(Strategy):\n",
    "\n",
    "    def impl(self, op: IOp) -> RewriteResult:\n",
    "        match op:\n",
    "            # match an IOp with the only restriction that its result is an Integer\n",
    "            case IOp(results=[IResult(typ=IntegerType() as type)]):\n",
    "                new_ops = new_op(Addi, \n",
    "                                operands=[\n",
    "                                    op,\n",
    "                                    new_op(Constant,\n",
    "                                        attributes={\n",
    "                                            \"value\": IntegerAttr.from_int_and_width(0, 32)\n",
    "                                        }, result_types=[type])\n",
    "                                ], \n",
    "                                result_types=[type])\n",
    "                return success(new_ops)\n",
    "            case _:\n",
    "                return failure(self)\n",
    "\n",
    "rewrite_result = topToBottom(AddZero()).apply(imm_module)\n",
    "\n",
    "printer = Printer()\n",
    "print(\"before:\")\n",
    "printer.print_op(module)\n",
    "\n",
    "print(\"after AddZero Rewrite:\")\n",
    "printer = Printer()\n",
    "printer.print_op(rewrite_result.result_op.get_mutable_copy())"
   ]
  },
  {
   "cell_type": "code",
   "execution_count": 6,
   "metadata": {},
   "outputs": [
    {
     "name": "stdout",
     "output_type": "stream",
     "text": [
      "before:\n",
      "module() {\n",
      "  func.func() [\"type\" = !fun<[], [!i32]>] {\n",
      "    %0 : !i32 = arith.constant() [\"value\" = 4 : !i32]\n",
      "    %1 : !i32 = arith.constant() [\"value\" = 2 : !i32]\n",
      "    %2 : !i32 = arith.constant() [\"value\" = 1 : !i32]\n",
      "    %3 : !i32 = arith.addi(%2 : !i32, %1 : !i32)\n",
      "    %4 : !i32 = arith.addi(%3 : !i32, %0 : !i32)\n",
      "    func.return(%4 : !i32)\n",
      "  }\n",
      "}\n",
      "after AddZero Rewrite:\n",
      "module() {\n",
      "  func.func() [\"type\" = !fun<[], [!i32]>] {\n",
      "    %0 : !i32 = arith.constant() [\"value\" = 4 : !i32]\n",
      "    %1 : !i32 = arith.constant() [\"value\" = 2 : !i32]\n",
      "    %2 : !i32 = arith.constant() [\"value\" = 1 : !i32]\n",
      "    %3 : !i32 = arith.addi(%1 : !i32, %2 : !i32)\n",
      "    %4 : !i32 = arith.addi(%3 : !i32, %0 : !i32)\n",
      "    func.return(%4 : !i32)\n",
      "  }\n",
      "}\n"
     ]
    }
   ],
   "source": [
    "@dataclass(frozen=True)\n",
    "class CommuteAdd(Strategy):\n",
    "\n",
    "    def impl(self, op: IOp) -> RewriteResult:\n",
    "        match op:\n",
    "            case IOp(op_type=arith.Addi,\n",
    "                     operands=[operand0, operand1]):\n",
    "                new_ops = from_op(op, operands=[operand1, operand0])\n",
    "                return success(new_ops)\n",
    "            case _:\n",
    "                return failure(self)\n",
    "\n",
    "imm_module: IOp = get_immutable_copy(module)\n",
    "rewrite_result = topToBottom(CommuteAdd()).apply(imm_module)\n",
    "\n",
    "printer = Printer()\n",
    "print(\"before:\")\n",
    "printer.print_op(module)\n",
    "\n",
    "print(\"after AddZero Rewrite:\")\n",
    "\n",
    "printer = Printer()\n",
    "printer.print_op(rewrite_result.result_op.get_mutable_copy())"
   ]
  },
  {
   "cell_type": "code",
   "execution_count": 19,
   "metadata": {},
   "outputs": [
    {
     "name": "stdout",
     "output_type": "stream",
     "text": [
      "before:\n",
      "module() {\n",
      "  func.func() [\"sym_name\" = \"sum_vec\", \"function_type\" = !fun<[!memref<[128 : !index], !i32>], [!i32]>, \"sym_visibility\" = \"private\"] {\n",
      "  ^0(%0 : !memref<[128 : !index], !i32>):\n",
      "    %1 : !i32 = arith.constant() [\"value\" = 0 : !i32]\n",
      "    %r : !i32 = affine.for() [\"lower_bound\" = 0 : !index, \"upper_bound\" = 256 : !index, \"step\" = 1 : !index] {\n",
      "    ^1(%2 : !index):\n",
      "      %val : !i32 = memref.load(%0 : !memref<[128 : !index], !i32>, %2 : !index)\n",
      "      %res : !i32 = arith.addi(%1 : !i32, %val : !i32)\n",
      "      affine.yield(%res : !i32)\n",
      "    }\n",
      "    func.return(%r : !i32)\n",
      "  }\n",
      "}\n",
      "after AddZero Rewrite:\n",
      "module() {\n",
      "  func.func() [\"sym_name\" = \"sum_vec\", \"function_type\" = !fun<[!memref<[128 : !index], !i32>], [!i32]>, \"sym_visibility\" = \"private\"] {\n",
      "  ^0(%0 : !memref<[128 : !index], !i32>):\n",
      "    %1 : !i32 = arith.constant() [\"value\" = 0 : !i32]\n",
      "    %2 : !i32 = affine.for() [\"lower_bound\" = 0 : !index, \"upper_bound\" = 253 : !index, \"step\" = 1 : !index] {\n",
      "    ^1(%3 : !index):\n",
      "      %4 : !i32 = memref.load(%0 : !memref<[128 : !index], !i32>, %3 : !index)\n",
      "      %5 : !i32 = arith.addi(%1 : !i32, %4 : !i32)\n",
      "      affine.yield(%5 : !i32)\n",
      "    }\n",
      "    %6 : !i32 = affine.for() [\"lower_bound\" = 253 : !index, \"upper_bound\" = 256 : !index, \"step\" = 1 : !index] {\n",
      "    ^2(%7 : !index):\n",
      "      %8 : !i32 = memref.load(%0 : !memref<[128 : !index], !i32>, %7 : !index)\n",
      "      %9 : !i32 = arith.addi(%1 : !i32, %8 : !i32)\n",
      "      affine.yield(%9 : !i32)\n",
      "    }\n",
      "    func.return(%6 : !i32)\n",
      "  }\n",
      "}\n"
     ]
    }
   ],
   "source": [
    "affine_ir = \"\"\"module() {\n",
    "  func.func() [\"sym_name\" = \"sum_vec\", \"function_type\" = !fun<[!memref<[128 : !index], !i32>], [!i32]>, \"sym_visibility\" = \"private\"] {\n",
    "  ^0(%ref : !memref<[128 : !index], !i32>):\n",
    "    %const0 : !i32 = arith.constant() [\"value\" = 0 : !i32]\n",
    "    %r : !i32 = affine.for() [\"lower_bound\" = 0 : !index, \"upper_bound\" = 256 : !index, \"step\" = 1 : !index] {\n",
    "    ^11(%i : !index):\n",
    "      %val : !i32 = memref.load(%ref : !memref<[128 : !index], !i32>, %i : !index)\n",
    "      %res : !i32 = arith.addi(%const0 : !i32, %val : !i32)\n",
    "      affine.yield(%res : !i32)\n",
    "    }\n",
    "    func.return(%r : !i32)\n",
    "  }\n",
    "}\"\"\"\n",
    "\n",
    "@dataclass(frozen=True)\n",
    "class LoopSplit(Strategy):\n",
    "    length_snd_loop: int\n",
    "\n",
    "    def impl(self, op: IOp) -> RewriteResult:\n",
    "        match op:\n",
    "            case IOp(op_type=affine.For, results=[IResult(typ=IntegerType() as type)], \n",
    "                        attributes={\"lower_bound\": IntegerAttr(value=IntAttr(data=lb)), \n",
    "                                    \"upper_bound\": IntegerAttr(value=IntAttr(data=ub)), \n",
    "                                    \"step\": IntegerAttr(value=IntAttr(data=step))},\n",
    "                        region=IRegion(block=IBlock()) as loop_region) if ub > self.length_snd_loop:\n",
    "                assert step == 1 and \"Splitting currently only supported for loops with step 1\"\n",
    "\n",
    "                first_loop = from_op(op, attributes={\"lower_bound\": IntegerAttr.from_index_int_value(lb), \n",
    "                                                            \"upper_bound\": IntegerAttr.from_index_int_value(ub-self.length_snd_loop), \n",
    "                                                            \"step\": IntegerAttr.from_index_int_value(step)}, regions=[loop_region])\n",
    "                snd_loop = from_op(op, attributes={\"lower_bound\": IntegerAttr.from_index_int_value(ub-self.length_snd_loop), \n",
    "                                                            \"upper_bound\": IntegerAttr.from_index_int_value(ub), \n",
    "                                                            \"step\": IntegerAttr.from_index_int_value(step)}, regions=[loop_region])\n",
    "\n",
    "                return success(first_loop + snd_loop)\n",
    "            case _:\n",
    "                return failure(self)\n",
    "\n",
    "parser = Parser(ctx, affine_ir)\n",
    "module: Operation = parser.parse_op()\n",
    "\n",
    "imm_module: IOp = get_immutable_copy(module)\n",
    "rewrite_result = topToBottom(LoopSplit(3)).apply(imm_module)\n",
    "\n",
    "print(\"after LoopSplit Rewrite:\")\n",
    "\n",
    "printer = Printer()\n",
    "printer.print_op(rewrite_result.result_op.get_mutable_copy())"
   ]
  }
 ],
 "metadata": {
  "interpreter": {
   "hash": "e7370f93d1d0cde622a1f8e1c04877d8463912d04d973331ad4851f04de6915a"
  },
  "kernelspec": {
   "display_name": "Python 3.10.4 64-bit",
   "language": "python",
   "name": "python3"
  },
  "language_info": {
   "codemirror_mode": {
    "name": "ipython",
    "version": 3
   },
   "file_extension": ".py",
   "mimetype": "text/x-python",
   "name": "python",
   "nbconvert_exporter": "python",
   "pygments_lexer": "ipython3",
   "version": "3.10.4"
  },
  "orig_nbformat": 4
 },
 "nbformat": 4,
 "nbformat_minor": 2
}
