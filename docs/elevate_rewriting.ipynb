{
 "cells": [
  {
   "cell_type": "markdown",
   "metadata": {},
   "source": [
    "\n",
    "# Setup\n",
    "For this to work be sure to add the project to your PYTHONPATH, e.g. `export PYTHONPATH=$PYTHONPATH:/path/to/xdsl/src`"
   ]
  },
  {
   "cell_type": "code",
   "execution_count": 12,
   "metadata": {},
   "outputs": [
    {
     "name": "stdout",
     "output_type": "stream",
     "text": [
      "['/home/martin/development/phd/projects/xDSL/xdsl/docs', '/usr/lib/python310.zip', '/usr/lib/python3.10', '/usr/lib/python3.10/lib-dynload', '', '/home/martin/.local/lib/python3.10/site-packages', '/usr/lib/python3.10/site-packages', '/home/martin/development/phd/projects/xDSL/xdsl', '/home/martin/development/phd/projects/xDSL/xdsl/src', '${workspaceFolder}', '${workspaceFolder}/src', '${workspaceFolder}', '${workspaceFolder}/src']\n"
     ]
    },
    {
     "data": {
      "text/plain": [
       "Scf(ctx=MLContext(_registeredOps={'arith.constant': <class 'xdsl.dialects.arith.Constant'>, 'arith.addi': <class 'xdsl.dialects.arith.Addi'>, 'arith.muli': <class 'xdsl.dialects.arith.Muli'>, 'arith.subi': <class 'xdsl.dialects.arith.Subi'>, 'arith.floordivsi': <class 'xdsl.dialects.arith.FloorDiviSI'>, 'arith.remsi': <class 'xdsl.dialects.arith.RemSI'>, 'arith.addf': <class 'xdsl.dialects.arith.Addf'>, 'arith.mulf': <class 'xdsl.dialects.arith.Mulf'>, 'arith.cmpi': <class 'xdsl.dialects.arith.Cmpi'>, 'arith.andi': <class 'xdsl.dialects.arith.AndI'>, 'arith.ori': <class 'xdsl.dialects.arith.OrI'>, 'arith.xori': <class 'xdsl.dialects.arith.XOrI'>, 'module': <class 'xdsl.dialects.builtin.ModuleOp'>, 'func.func': <class 'xdsl.dialects.func.FuncOp'>, 'func.call': <class 'xdsl.dialects.func.Call'>, 'func.return': <class 'xdsl.dialects.func.Return'>, 'scf.if': <class 'xdsl.dialects.scf.If'>, 'scf.yield': <class 'xdsl.dialects.scf.Yield'>, 'scf.condition': <class 'xdsl.dialects.scf.Condition'>, 'scf.while': <class 'xdsl.dialects.scf.While'>}, _registeredAttrs={'string': <class 'xdsl.dialects.builtin.StringAttr'>, 'flat_symbol_ref': <class 'xdsl.dialects.builtin.FlatSymbolRefAttr'>, 'symbol_name': <class 'xdsl.dialects.builtin.SymbolNameAttr'>, 'int': <class 'xdsl.dialects.builtin.IntAttr'>, 'integer': <class 'xdsl.dialects.builtin.IntegerAttr'>, 'array': <class 'xdsl.dialects.builtin.ArrayAttr'>, 'vector': <class 'xdsl.dialects.builtin.VectorType'>, 'tensor': <class 'xdsl.dialects.builtin.TensorType'>, 'dense': <class 'xdsl.dialects.builtin.DenseIntOrFPElementsAttr'>, 'unit': <class 'xdsl.dialects.builtin.UnitAttr'>, 'fun': <class 'xdsl.dialects.builtin.FunctionType'>, 'f32': <class 'xdsl.dialects.builtin.Float32Type'>, 'integer_type': <class 'xdsl.dialects.builtin.IntegerType'>, 'index': <class 'xdsl.dialects.builtin.IndexType'>}))"
      ]
     },
     "execution_count": 12,
     "metadata": {},
     "output_type": "execute_result"
    }
   ],
   "source": [
    "from xdsl.parser import Parser\n",
    "from xdsl.printer import Printer\n",
    "import xdsl.dialects.arith as arith\n",
    "import xdsl.dialects.scf as scf\n",
    "import xdsl.dialects.func as func\n",
    "import xdsl.dialects.builtin as builtin\n",
    "from xdsl.elevate import *\n",
    "from xdsl.immutable_ir import *\n",
    "import sys\n",
    "sys.path.append('${workspaceFolder}')\n",
    "sys.path.append('${workspaceFolder}/src')\n",
    "\n",
    "# MLContext, containing information about the registered dialects\n",
    "ctx = MLContext()\n",
    "\n",
    "# Init dialects\n",
    "arith.Arith(ctx)\n",
    "builtin.Builtin(ctx)\n",
    "func.Func(ctx)\n",
    "scf.Scf(ctx)\n"
   ]
  },
  {
   "cell_type": "code",
   "execution_count": 13,
   "metadata": {},
   "outputs": [
    {
     "name": "stdout",
     "output_type": "stream",
     "text": [
      "module() {\n",
      "  func.func() [\"type\" = !fun<[], [!i32]>] {\n",
      "    %0 : !i32 = arith.constant() [\"value\" = 4 : !i32]\n",
      "    %1 : !i32 = arith.constant() [\"value\" = 2 : !i32]\n",
      "    %2 : !i32 = arith.constant() [\"value\" = 1 : !i32]\n",
      "    %3 : !i32 = arith.addi(%2 : !i32, %1 : !i32)\n",
      "    %4 : !i32 = arith.addi(%3 : !i32, %0 : !i32)\n",
      "    func.return(%4 : !i32)\n",
      "  }\n",
      "}\n"
     ]
    }
   ],
   "source": [
    "IR = \\\n",
    "\"\"\"module() {\n",
    "  func.func()[\"type\" = !fun<[], [!i32]>] {\n",
    "    %0 : !i32 = arith.constant() [\"value\" = 4 : !i32]\n",
    "    %1 : !i32 = arith.constant() [\"value\" = 2 : !i32]\n",
    "    %2 : !i32 = arith.constant() [\"value\" = 1 : !i32]\n",
    "    %3 : !i32 = arith.addi(%2 : !i32, %1 : !i32)\n",
    "    %4 : !i32 = arith.addi(%3 : !i32, %0 : !i32)\n",
    "    func.return(%4 : !i32)\n",
    "  }\n",
    "}\n",
    "\"\"\"\n",
    "parser = Parser(ctx, IR)\n",
    "module: Operation = parser.parse_op()\n",
    "\n",
    "printer = Printer()\n",
    "printer.print_op(module)\n",
    "\n"
   ]
  },
  {
   "cell_type": "markdown",
   "metadata": {},
   "source": [
    "# Rewrites\n",
    "- operate on immutableIR\n",
    "- match a single root `op` and replace it\n",
    "- no way to reference parents (Block, Region, op) of matched `op`"
   ]
  },
  {
   "cell_type": "code",
   "execution_count": 7,
   "metadata": {},
   "outputs": [
    {
     "name": "stdout",
     "output_type": "stream",
     "text": [
      "before:\n",
      "module() {\n",
      "  func.func() [\"type\" = !fun<[], [!i32]>] {\n",
      "    %0 : !i32 = arith.constant() [\"value\" = 4 : !i32]\n",
      "    %1 : !i32 = arith.constant() [\"value\" = 2 : !i32]\n",
      "    %2 : !i32 = arith.constant() [\"value\" = 1 : !i32]\n",
      "    %3 : !i32 = arith.addi(%2 : !i32, %1 : !i32)\n",
      "    %4 : !i32 = arith.addi(%3 : !i32, %0 : !i32)\n",
      "    func.return(%4 : !i32)\n",
      "  }\n",
      "}\n",
      "after AddZero Rewrite:\n",
      "module() {\n",
      "  func.func() [\"type\" = !fun<[], [!i32]>] {\n",
      "    %0 : !i32 = arith.constant() [\"value\" = 4 : !i32]\n",
      "    %1 : !i32 = arith.constant() [\"value\" = 2 : !i32]\n",
      "    %2 : !i32 = arith.constant() [\"value\" = 1 : !i32]\n",
      "    %3 : !i32 = arith.addi(%2 : !i32, %1 : !i32)\n",
      "    %4 : !i32 = arith.addi(%3 : !i32, %0 : !i32)\n",
      "    %5 : !i32 = arith.constant() [\"value\" = 0 : !i32]\n",
      "    %6 : !i32 = arith.addi(%4 : !i32, %5 : !i32)\n",
      "    func.return(%6 : !i32)\n",
      "  }\n",
      "}\n"
     ]
    }
   ],
   "source": [
    "imm_module: IOp = get_immutable_copy(module)\n",
    "\n",
    "\n",
    "@dataclass(frozen=True)\n",
    "class AddZero(Strategy):\n",
    "\n",
    "    def impl(self, op: IOp) -> RewriteResult:\n",
    "        match op:\n",
    "            # match an IOp with the only restriction that its result is an Integer\n",
    "            case IOp(results=[IResult(typ=IntegerType() as type)]):\n",
    "                new_ops = new_op(Addi, \n",
    "                                operands=[\n",
    "                                    op,\n",
    "                                    new_op(Constant,\n",
    "                                        attributes={\n",
    "                                            \"value\": IntegerAttr.from_int_and_width(0, 32)\n",
    "                                        }, result_types=[type])\n",
    "                                ], \n",
    "                                result_types=[type])\n",
    "                return success(new_ops)\n",
    "            case _:\n",
    "                return failure(self)\n",
    "\n",
    "rewrite_result = backwards(AddZero()).apply(imm_module)\n",
    "\n",
    "printer = Printer()\n",
    "print(\"before:\")\n",
    "printer.print_op(module)\n",
    "\n",
    "print(\"after AddZero Rewrite:\")\n",
    "printer = Printer()\n",
    "printer.print_op(rewrite_result.result_op.get_mutable_copy())"
   ]
  },
  {
   "cell_type": "code",
   "execution_count": 9,
   "metadata": {},
   "outputs": [
    {
     "name": "stdout",
     "output_type": "stream",
     "text": [
      "before:\n",
      "module() {\n",
      "  func.func() [\"type\" = !fun<[], [!i32]>] {\n",
      "    %0 : !i32 = arith.constant() [\"value\" = 4 : !i32]\n",
      "    %1 : !i32 = arith.constant() [\"value\" = 2 : !i32]\n",
      "    %2 : !i32 = arith.constant() [\"value\" = 1 : !i32]\n",
      "    %3 : !i32 = arith.addi(%2 : !i32, %1 : !i32)\n",
      "    %4 : !i32 = arith.addi(%3 : !i32, %0 : !i32)\n",
      "    func.return(%4 : !i32)\n",
      "  }\n",
      "}\n",
      "after AddZero Rewrite:\n",
      "module() {\n",
      "  func.func() [\"type\" = !fun<[], [!i32]>] {\n",
      "    %0 : !i32 = arith.constant() [\"value\" = 4 : !i32]\n",
      "    %1 : !i32 = arith.constant() [\"value\" = 2 : !i32]\n",
      "    %2 : !i32 = arith.constant() [\"value\" = 1 : !i32]\n",
      "    %3 : !i32 = arith.addi(%2 : !i32, %1 : !i32)\n",
      "    %4 : !i32 = arith.addi(%0 : !i32, %3 : !i32)\n",
      "    func.return(%4 : !i32)\n",
      "  }\n",
      "}\n"
     ]
    }
   ],
   "source": [
    "@dataclass(frozen=True)\n",
    "class CommuteAdd(Strategy):\n",
    "\n",
    "    def impl(self, op: IOp) -> RewriteResult:\n",
    "        match op:\n",
    "            case IOp(op_type=arith.Addi,\n",
    "                     operands=[operand0, operand1]):\n",
    "                new_ops = from_op(op, operands=[operand1, operand0])\n",
    "                return success(new_ops)\n",
    "            case _:\n",
    "                return failure(self)\n",
    "\n",
    "imm_module: IOp = get_immutable_copy(module)\n",
    "rewrite_result = backwards(CommuteAdd()).apply(imm_module)\n",
    "\n",
    "printer = Printer()\n",
    "print(\"before:\")\n",
    "printer.print_op(module)\n",
    "\n",
    "print(\"after AddZero Rewrite:\")\n",
    "\n",
    "printer = Printer()\n",
    "printer.print_op(rewrite_result.result_op.get_mutable_copy())"
   ]
  }
 ],
 "metadata": {
  "interpreter": {
   "hash": "e7370f93d1d0cde622a1f8e1c04877d8463912d04d973331ad4851f04de6915a"
  },
  "kernelspec": {
   "display_name": "Python 3.10.4 64-bit",
   "language": "python",
   "name": "python3"
  },
  "language_info": {
   "codemirror_mode": {
    "name": "ipython",
    "version": 3
   },
   "file_extension": ".py",
   "mimetype": "text/x-python",
   "name": "python",
   "nbconvert_exporter": "python",
   "pygments_lexer": "ipython3",
   "version": "3.10.4"
  },
  "orig_nbformat": 4
 },
 "nbformat": 4,
 "nbformat_minor": 2
}
