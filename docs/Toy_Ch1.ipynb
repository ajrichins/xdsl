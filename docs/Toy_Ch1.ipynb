{
 "cells": [
  {
   "cell_type": "markdown",
   "id": "56341c66",
   "metadata": {},
   "source": [
    "# Chapter 1: Toy Language and AST\n",
    "\n",
    "This is an xDSL version of the Toy compiler, as described in the [MLIR tutorial](https://mlir.llvm.org/docs/Tutorials/Toy/)\n",
    "\n",
    "This tutorial will be illustrated with a toy language that we’ll call “Toy” (naming is hard…). Toy is a tensor-based language that allows you to define functions, perform some math computation, and print results."
   ]
  },
  {
   "cell_type": "code",
   "execution_count": 4,
   "id": "7c1c094f",
   "metadata": {},
   "outputs": [],
   "source": [
    "from pathlib import Path\n",
    "\n",
    "ast_toy = Path() / 'toy' / 'ast.toy'"
   ]
  },
  {
   "cell_type": "code",
   "execution_count": 5,
   "id": "a28a85e1",
   "metadata": {},
   "outputs": [
    {
     "name": "stdout",
     "output_type": "stream",
     "text": [
      "# RUN: toyc-ch1 %s -emit=ast 2>&1 | FileCheck %s\n",
      "\n",
      "# User defined generic function that operates on unknown shaped arguments.\n",
      "def multiply_transpose(a, b) {\n",
      "  return transpose(a) * transpose(b);\n",
      "}\n",
      "\n",
      "def main() {\n",
      "  # Define a variable `a` with shape <2, 3>, initialized with the literal value.\n",
      "  # The shape is inferred from the supplied literal.\n",
      "  var a = [[1, 2, 3], [4, 5, 6]];\n",
      "  # b is identical to a, the literal array is implicitly reshaped: defining new\n",
      "  # variables is the way to reshape arrays (element count in literal must match\n",
      "  # the size of specified shape).\n",
      "  var b<2, 3> = [1, 2, 3, 4, 5, 6];\n",
      "\n",
      "  # This call will specialize `multiply_transpose` with <2, 3> for both\n",
      "  # arguments and deduce a return type of <2, 2> in initialization of `c`.\n",
      "  var c = multiply_transpose(a, b);\n",
      "  # A second call to `multiply_transpose` with <2, 3> for both arguments will\n",
      "  # reuse the previously specialized and inferred version and return `<2, 2>`\n",
      "  var d = multiply_transpose(b, a);\n",
      "  # A new call with `<2, 2>` for both dimension will trigger another\n",
      "  # specialization of `multiply_transpose`.\n",
      "  var e = multiply_transpose(b, c);\n",
      "  # Finally, calling into `multiply_transpose` with incompatible shape will\n",
      "  # trigger a shape inference error.\n",
      "  var f = multiply_transpose(transpose(a), c);\n",
      "}\n",
      "\n",
      "\n",
      "# CHECK: Module:\n",
      "# CHECK-NEXT:     Function\n",
      "# CHECK-NEXT:       Proto 'multiply_transpose' @{{.*}}ast.toy:4:1\n",
      "# CHECK-NEXT:       Params: [a, b]\n",
      "# CHECK-NEXT:       Block {\n",
      "# CHECK-NEXT:         Return\n",
      "# CHECK-NEXT:           BinOp: * @{{.*}}ast.toy:5:25\n",
      "# CHECK-NEXT:             Call 'transpose' [ @{{.*}}ast.toy:5:10\n",
      "# CHECK-NEXT:               var: a @{{.*}}ast.toy:5:20\n",
      "# CHECK-NEXT:             ]\n",
      "# CHECK-NEXT:             Call 'transpose' [ @{{.*}}ast.toy:5:25\n",
      "# CHECK-NEXT:               var: b @{{.*}}ast.toy:5:35\n",
      "# CHECK-NEXT:             ]\n",
      "# CHECK-NEXT:       } // Block\n",
      "# CHECK-NEXT:     Function\n",
      "# CHECK-NEXT:       Proto 'main' @{{.*}}ast.toy:8:1\n",
      "# CHECK-NEXT:       Params: []\n",
      "# CHECK-NEXT:       Block {\n",
      "# CHECK-NEXT:         VarDecl a<> @{{.*}}ast.toy:11:3\n",
      "# CHECK-NEXT:           Literal: <2, 3>[ <3>[ 1.000000e+00, 2.000000e+00, 3.000000e+00], <3>[ 4.000000e+00, 5.000000e+00, 6.000000e+00]] @{{.*}}ast.toy:11:11\n",
      "# CHECK-NEXT:         VarDecl b<2, 3> @{{.*}}ast.toy:15:3\n",
      "# CHECK-NEXT:           Literal: <6>[ 1.000000e+00, 2.000000e+00, 3.000000e+00, 4.000000e+00, 5.000000e+00, 6.000000e+00] @{{.*}}ast.toy:15:17\n",
      "# CHECK-NEXT:         VarDecl c<> @{{.*}}ast.toy:19:3\n",
      "# CHECK-NEXT:           Call 'multiply_transpose' [ @{{.*}}ast.toy:19:11\n",
      "# CHECK-NEXT:             var: a @{{.*}}ast.toy:19:30\n",
      "# CHECK-NEXT:             var: b @{{.*}}ast.toy:19:33\n",
      "# CHECK-NEXT:           ]\n",
      "# CHECK-NEXT:         VarDecl d<> @{{.*}}ast.toy:22:3\n",
      "# CHECK-NEXT:           Call 'multiply_transpose' [ @{{.*}}ast.toy:22:11\n",
      "# CHECK-NEXT:             var: b @{{.*}}ast.toy:22:30\n",
      "# CHECK-NEXT:             var: a @{{.*}}ast.toy:22:33\n",
      "# CHECK-NEXT:           ]\n",
      "# CHECK-NEXT:         VarDecl e<> @{{.*}}ast.toy:25:3\n",
      "# CHECK-NEXT:           Call 'multiply_transpose' [ @{{.*}}ast.toy:25:11\n",
      "# CHECK-NEXT:             var: b @{{.*}}ast.toy:25:30\n",
      "# CHECK-NEXT:             var: c @{{.*}}ast.toy:25:33\n",
      "# CHECK-NEXT:           ]\n",
      "# CHECK-NEXT:         VarDecl f<> @{{.*}}ast.toy:28:3\n",
      "# CHECK-NEXT:           Call 'multiply_transpose' [ @{{.*}}ast.toy:28:11\n",
      "# CHECK-NEXT:             Call 'transpose' [ @{{.*}}ast.toy:28:30\n",
      "# CHECK-NEXT:               var: a @{{.*}}ast.toy:28:40\n",
      "# CHECK-NEXT:             ]\n",
      "# CHECK-NEXT:             var: c @{{.*}}ast.toy:28:44\n",
      "# CHECK-NEXT:           ]\n",
      "\n",
      "\n"
     ]
    }
   ],
   "source": [
    "with open(ast_toy, 'r') as f:\n",
    "    print(f.read())"
   ]
  },
  {
   "cell_type": "code",
   "execution_count": 6,
   "id": "dd72492f",
   "metadata": {},
   "outputs": [
    {
     "name": "stdout",
     "output_type": "stream",
     "text": [
      "Module:\n",
      "  Function \n",
      "    Proto 'multiply_transpose' toy/ast.toy:4:1'\n",
      "    Params: [a, b]\n",
      "    Block {\n",
      "      Return\n",
      "        BinOp: * toy/ast.toy:5:25\n",
      "          Call 'transpose' [ toy/ast.toy:5:10\n",
      "            var: a toy/ast.toy:5:20\n",
      "          ]\n",
      "          Call 'transpose' [ toy/ast.toy:5:25\n",
      "            var: b toy/ast.toy:5:35\n",
      "          ]\n",
      "    } // Block\n",
      "  Function \n",
      "    Proto 'main' toy/ast.toy:8:1'\n",
      "    Params: []\n",
      "    Block {\n",
      "      VarDecl a<> toy/ast.toy:11:3\n",
      "        Literal: <2, 3>[ <3>[ 1.000000e+00, 2.000000e+00, 3.000000e+00], <3>[ 4.000000e+00, 5.000000e+00, 6.000000e+00]] toy/ast.toy:11:11\n",
      "      VarDecl b<2, 3> toy/ast.toy:15:3\n",
      "        Literal: <6>[ 1.000000e+00, 2.000000e+00, 3.000000e+00, 4.000000e+00, 5.000000e+00, 6.000000e+00] toy/ast.toy:15:17\n",
      "      VarDecl c<> toy/ast.toy:19:3\n",
      "        Call 'multiply_transpose' [ toy/ast.toy:19:11\n",
      "          var: a toy/ast.toy:19:30\n",
      "          var: b toy/ast.toy:19:33\n",
      "        ]\n",
      "      VarDecl d<> toy/ast.toy:22:3\n",
      "        Call 'multiply_transpose' [ toy/ast.toy:22:11\n",
      "          var: b toy/ast.toy:22:30\n",
      "          var: a toy/ast.toy:22:33\n",
      "        ]\n",
      "      VarDecl e<> toy/ast.toy:25:3\n",
      "        Call 'multiply_transpose' [ toy/ast.toy:25:11\n",
      "          var: b toy/ast.toy:25:30\n",
      "          var: c toy/ast.toy:25:33\n",
      "        ]\n",
      "      VarDecl f<> toy/ast.toy:28:3\n",
      "        Call 'multiply_transpose' [ toy/ast.toy:28:11\n",
      "          Call 'transpose' [ toy/ast.toy:28:30\n",
      "            var: a toy/ast.toy:28:40\n",
      "          ]\n",
      "          var: c toy/ast.toy:28:44\n",
      "        ]\n",
      "    } // Block\n",
      "\n"
     ]
    }
   ],
   "source": [
    "from toy.Parser import Parser\n",
    "\n",
    "with open(ast_toy, 'r') as f:\n",
    "    parser = Parser(ast_toy, f.read())\n",
    "\n",
    "print(parser.parseModule().dump())"
   ]
  },
  {
   "cell_type": "code",
   "execution_count": null,
   "id": "36aa0bdb",
   "metadata": {},
   "outputs": [],
   "source": []
  }
 ],
 "metadata": {
  "kernelspec": {
   "display_name": "Python 3.10.5 ('venv': venv)",
   "language": "python",
   "name": "python3"
  },
  "language_info": {
   "codemirror_mode": {
    "name": "ipython",
    "version": 3
   },
   "file_extension": ".py",
   "mimetype": "text/x-python",
   "name": "python",
   "nbconvert_exporter": "python",
   "pygments_lexer": "ipython3",
   "version": "3.11.0"
  },
  "vscode": {
   "interpreter": {
    "hash": "fda08596110b9a36b84966695987440228e4b909cf8fcaa87f570c5f74df3470"
   }
  }
 },
 "nbformat": 4,
 "nbformat_minor": 5
}
