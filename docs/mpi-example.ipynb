{
 "cells": [
  {
   "cell_type": "markdown",
   "source": [
    "# MPI Dialect example\n",
    "\n",
    "In this example we show how to use the MPI dialect with memref, and how to lower it to MLIR builtins + llvm"
   ],
   "metadata": {
    "collapsed": false
   }
  },
  {
   "cell_type": "code",
   "execution_count": 1,
   "outputs": [
    {
     "name": "stdout",
     "output_type": "stream",
     "text": [
      "\"builtin.module\"() ({\n",
      "  \"func.func\"() ({\n",
      "    \"mpi.init\"() : () -> ()\n",
      "    %0 = \"mpi.comm.rank\"() : () -> i32\n",
      "    %1 = \"arith.constant\"() {\"value\" = 0 : i32} : () -> i32\n",
      "    %2 = \"arith.cmpi\"(%0, %1) {\"predicate\" = 0 : i64} : (i32, i32) -> i1\n",
      "    %3 = \"memref.alloc\"() {\"alignment\" = 32 : i64, \"operand_segment_sizes\" = array<i32: 0, 0>} : () -> memref<100x14x14xf64>\n",
      "    \"scf.if\"(%2) ({\n",
      "      %4 = \"arith.constant\"() {\"value\" = 1 : i32} : () -> i32\n",
      "      %5 = \"mpi.isend\"(%3, %4) {\"tag\" = 1 : i32} : (memref<100x14x14xf64>, i32) -> !mpi.request\n",
      "      %6 = \"mpi.wait\"(%5) : (!mpi.request) -> i32\n",
      "      \"scf.yield\"() : () -> ()\n",
      "    }, {\n",
      "      %7 = \"arith.constant\"() {\"value\" = 0 : i32} : () -> i32\n",
      "      %8 = \"mpi.irecv\"(%7, %3) {\"tag\" = 1 : i32} : (i32, memref<100x14x14xf64>) -> !mpi.request\n",
      "      \"mpi.wait\"(%8) : (!mpi.request) -> ()\n",
      "      \"scf.yield\"() : () -> ()\n",
      "    }) : (i1) -> ()\n",
      "    \"mpi.finalize\"() : () -> ()\n",
      "    \"func.return\"() : () -> ()\n",
      "  }) {\"sym_name\" = \"main\", \"function_type\" = () -> (), \"sym_visibility\" = \"private\"} : () -> ()\n",
      "}) : () -> ()\n"
     ]
    }
   ],
   "source": [
    "from xdsl.dialects import mpi, scf, memref, builtin, arith, func\n",
    "from xdsl.printer import Printer\n",
    "\n",
    "f64 = builtin.f64\n",
    "printer = Printer(target=Printer.Target.MLIR)\n",
    "\n",
    "# given this use of the mpi IR\n",
    "given = builtin.ModuleOp.from_region_or_ops([\n",
    "    func.FuncOp.from_callable('main', [], [], lambda: [\n",
    "        mpi.Init.build(),\n",
    "        rank := mpi.CommRank.get(),\n",
    "        lit0 := arith.Constant.from_int_and_width(0, 32),\n",
    "        cond := arith.Cmpi.from_mnemonic(rank, lit0, 'eq'),\n",
    "        buff := memref.Alloc.get(f64, 32, [100, 14, 14]),\n",
    "        scf.If.get(cond, [], [  # if rank == 0\n",
    "            dest := arith.Constant.from_int_and_width(1, mpi.t_int),\n",
    "            req  := mpi.ISend.get(buff, dest, 1),\n",
    "            mpi.Wait.get(req, ignore_status=False),\n",
    "            scf.Yield.get(),\n",
    "        ], [  # else\n",
    "            source := arith.Constant.from_int_and_width(0, mpi.t_int),\n",
    "            recv := mpi.IRecv.get(source, buff, 1),\n",
    "            mpi.Wait.get(recv.request),\n",
    "            scf.Yield.get(),\n",
    "        ]),\n",
    "        mpi.Finalize.build(),\n",
    "        func.Return.get()\n",
    "    ])\n",
    "])  # yapf: disable\n",
    "\n",
    "printer.print(given)"
   ],
   "metadata": {
    "collapsed": false
   }
  },
  {
   "cell_type": "code",
   "execution_count": 2,
   "outputs": [
    {
     "name": "stdout",
     "output_type": "stream",
     "text": [
      "\"builtin.module\"() ({\n",
      "  \"func.func\"() ({}) {\"sym_name\" = \"MPI_Finalize\", \"function_type\" = () -> i32, \"sym_visibility\" = \"private\"} : () -> ()\n",
      "  \"func.func\"() ({}) {\"sym_name\" = \"MPI_Irecv\", \"function_type\" = (!llvm.ptr, i32, i32, i32, i32, i32, !llvm.ptr<i32>) -> i32, \"sym_visibility\" = \"private\"} : () -> ()\n",
      "  \"func.func\"() ({}) {\"sym_name\" = \"MPI_Wait\", \"function_type\" = (!llvm.ptr<i32>, !llvm.ptr) -> i32, \"sym_visibility\" = \"private\"} : () -> ()\n",
      "  \"func.func\"() ({}) {\"sym_name\" = \"MPI_Isend\", \"function_type\" = (!llvm.ptr, i32, i32, i32, i32, i32, !llvm.ptr<i32>) -> i32, \"sym_visibility\" = \"private\"} : () -> ()\n",
      "  \"func.func\"() ({}) {\"sym_name\" = \"MPI_Comm_rank\", \"function_type\" = (i32, !llvm.ptr<i32>) -> i32, \"sym_visibility\" = \"private\"} : () -> ()\n",
      "  \"func.func\"() ({}) {\"sym_name\" = \"MPI_Init\", \"function_type\" = (!llvm.ptr, !llvm.ptr) -> i32, \"sym_visibility\" = \"private\"} : () -> ()\n",
      "  \"func.func\"() ({\n",
      "    %9 = \"llvm.mlir.null\"() : () -> !llvm.ptr\n",
      "    %10 = \"func.call\"(%9, %9) {\"callee\" = @MPI_Init} : (!llvm.ptr, !llvm.ptr) -> i32\n",
      "    %11 = \"arith.constant\"() {\"value\" = 1140850688 : i32} : () -> i32\n",
      "    %12 = \"arith.constant\"() {\"value\" = 1 : i64} : () -> i64\n",
      "    %13 = \"llvm.alloca\"(%12) {\"alignment\" = 32 : i64} : (i64) -> !llvm.ptr<i32>\n",
      "    %14 = \"func.call\"(%11, %13) {\"callee\" = @MPI_Comm_rank} : (i32, !llvm.ptr<i32>) -> i32\n",
      "    %15 = \"llvm.load\"(%13) : (!llvm.ptr<i32>) -> i32\n",
      "    %1 = \"arith.constant\"() {\"value\" = 0 : i32} : () -> i32\n",
      "    %2 = \"arith.cmpi\"(%15, %1) {\"predicate\" = 0 : i64} : (i32, i32) -> i1\n",
      "    %3 = \"memref.alloc\"() {\"alignment\" = 32 : i64, \"operand_segment_sizes\" = array<i32: 0, 0>} : () -> memref<100x14x14xf64>\n",
      "    \"scf.if\"(%2) ({\n",
      "      %4 = \"arith.constant\"() {\"value\" = 1 : i32} : () -> i32\n",
      "      %16 = \"arith.constant\"() {\"value\" = 128 : i32} : () -> i32\n",
      "      %17 = \"arith.constant\"() {\"value\" = 1275070475 : i32} : () -> i32\n",
      "      %18 = \"arith.constant\"() {\"value\" = 1 : i32} : () -> i32\n",
      "      %19 = \"arith.constant\"() {\"value\" = 1140850688 : i32} : () -> i32\n",
      "      %20 = \"arith.constant\"() {\"value\" = 1 : i64} : () -> i64\n",
      "      %21 = \"llvm.alloca\"(%20) {\"alignment\" = 32 : i64} : (i64) -> !llvm.ptr<i32>\n",
      "      %22 = \"memref.extract_aligned_pointer_as_index\"(%3) : (memref<100x14x14xf64>) -> index\n",
      "      %23 = \"arith.index_cast\"(%22) : (index) -> i64\n",
      "      %24 = \"llvm.inttoptr\"(%23) : (i64) -> !llvm.ptr\n",
      "      %25 = \"func.call\"(%24, %16, %17, %4, %18, %19, %21) {\"callee\" = @MPI_Isend} : (!llvm.ptr, i32, i32, i32, i32, i32, !llvm.ptr<i32>) -> i32\n",
      "      %26 = \"arith.constant\"() {\"value\" = 1 : i64} : () -> i64\n",
      "      %27 = \"llvm.alloca\"(%26) {\"alignment\" = 32 : i64, \"elem_type\" = i160} : (i64) -> !llvm.ptr\n",
      "      %28 = \"func.call\"(%21, %27) {\"callee\" = @MPI_Wait} : (!llvm.ptr<i32>, !llvm.ptr) -> i32\n",
      "      \"scf.yield\"() : () -> ()\n",
      "    }, {\n",
      "      %7 = \"arith.constant\"() {\"value\" = 0 : i32} : () -> i32\n",
      "      %29 = \"arith.constant\"() {\"value\" = 128 : i32} : () -> i32\n",
      "      %30 = \"memref.extract_aligned_pointer_as_index\"(%3) : (memref<100x14x14xf64>) -> index\n",
      "      %31 = \"arith.index_cast\"(%30) : (index) -> i64\n",
      "      %32 = \"llvm.inttoptr\"(%31) : (i64) -> !llvm.ptr\n",
      "      %33 = \"arith.constant\"() {\"value\" = 1275070475 : i32} : () -> i32\n",
      "      %34 = \"arith.constant\"() {\"value\" = 1 : i32} : () -> i32\n",
      "      %35 = \"arith.constant\"() {\"value\" = 1140850688 : i32} : () -> i32\n",
      "      %36 = \"arith.constant\"() {\"value\" = 1 : i64} : () -> i64\n",
      "      %37 = \"llvm.alloca\"(%36) {\"alignment\" = 32 : i64} : (i64) -> !llvm.ptr<i32>\n",
      "      %38 = \"func.call\"(%32, %29, %33, %7, %34, %35, %37) {\"callee\" = @MPI_Irecv} : (!llvm.ptr, i32, i32, i32, i32, i32, !llvm.ptr<i32>) -> i32\n",
      "      %39 = \"arith.constant\"() {\"value\" = 1 : i64} : () -> i64\n",
      "      %40 = \"llvm.inttoptr\"(%39) : (i64) -> !llvm.ptr\n",
      "      %41 = \"func.call\"(%37, %40) {\"callee\" = @MPI_Wait} : (!llvm.ptr<i32>, !llvm.ptr) -> i32\n",
      "      \"scf.yield\"() : () -> ()\n",
      "    }) : (i1) -> ()\n",
      "    %42 = \"func.call\"() {\"callee\" = @MPI_Finalize} : () -> i32\n",
      "    \"func.return\"() : () -> ()\n",
      "  }) {\"sym_name\" = \"main\", \"function_type\" = () -> (), \"sym_visibility\" = \"private\"} : () -> ()\n",
      "}) : () -> ()\n"
     ]
    }
   ],
   "source": [
    "\n",
    "from xdsl.pattern_rewriter import PatternRewriteWalker, GreedyRewritePatternApplier\n",
    "\n",
    "\n",
    "# This is not the best place for this, but it's the best we have:\n",
    "def apply_rewrites(module, *rewriters):\n",
    "    PatternRewriteWalker(GreedyRewritePatternApplier(rewriters)).rewrite_module(module)\n",
    "\n",
    "# We can apply the lowerings defined in mpi.MpiLowerings\n",
    "lowerings = mpi.MpiLowerings(mpi.MpiLibraryInfo())\n",
    "\n",
    "# the lowerings need some mpi.MpiLibraryInfo() object passed into it which provides info about the MPI library that should be linked\n",
    "\n",
    "# we apply the lowerings\n",
    "apply_rewrites(given, lowerings)\n",
    "# and then we also have to add the function definitions to the module:\n",
    "lowerings.insert_externals_into_module(given)\n",
    "\n",
    "printer.print(given)"
   ],
   "metadata": {
    "collapsed": false
   }
  }
 ],
 "metadata": {
  "kernelspec": {
   "display_name": "Python 3",
   "language": "python",
   "name": "python3"
  },
  "language_info": {
   "codemirror_mode": {
    "name": "ipython",
    "version": 2
   },
   "file_extension": ".py",
   "mimetype": "text/x-python",
   "name": "python",
   "nbconvert_exporter": "python",
   "pygments_lexer": "ipython2",
   "version": "2.7.6"
  }
 },
 "nbformat": 4,
 "nbformat_minor": 0
}
