{
 "cells": [
  {
   "cell_type": "markdown",
   "id": "56341c66",
   "metadata": {},
   "source": [
    "# Toy\n",
    "\n",
    "This is an xDSL version of the Toy compiler, as described in the [MLIR tutorial](https://mlir.llvm.org/docs/Tutorials/Toy/)"
   ]
  },
  {
   "cell_type": "code",
   "execution_count": 4,
   "id": "aa00156e",
   "metadata": {},
   "outputs": [],
   "source": [
    "import sys\n",
    "# To import local version of xdsl\n",
    "sys.path.insert(0, '../src')"
   ]
  },
  {
   "cell_type": "markdown",
   "id": "c9199d3e",
   "metadata": {},
   "source": [
    "## Chapter 1: Toy Language and AST\n",
    "\n",
    "This tutorial will be illustrated with a toy language that we’ll call “Toy” (naming is hard…). Toy is a tensor-based language that allows you to define functions, perform some math computation, and print results."
   ]
  },
  {
   "cell_type": "code",
   "execution_count": 5,
   "id": "7c1c094f",
   "metadata": {},
   "outputs": [],
   "source": [
    "example_0 = '''\n",
    "# User defined generic function that operates on unknown shaped arguments.\n",
    "def multiply_transpose(a, b) {\n",
    "  return transpose(a) * transpose(b);\n",
    "}\n",
    "\n",
    "def main() {\n",
    "  # Define a variable `a` with shape <2, 3>, initialized with the literal value.\n",
    "  var a = [[1, 2, 3], [4, 5, 6]];\n",
    "  var b<2, 3> = [1, 2, 3, 4, 5, 6];\n",
    "\n",
    "  # This call will specialize `multiply_transpose` with <2, 3> for both\n",
    "  # arguments and deduce a return type of <3, 2> in initialization of `c`.\n",
    "  var c = multiply_transpose(a, b);\n",
    "\n",
    "  # A second call to `multiply_transpose` with <2, 3> for both arguments will\n",
    "  # reuse the previously specialized and inferred version and return <3, 2>.\n",
    "  var d = multiply_transpose(b, a);\n",
    "\n",
    "  # A new call with <3, 2> (instead of <2, 3>) for both dimensions will\n",
    "  # trigger another specialization of `multiply_transpose`.\n",
    "  var e = multiply_transpose(b, c);\n",
    "\n",
    "  # Finally, calling into `multiply_transpose` with incompatible shape will\n",
    "  # trigger a shape inference error.\n",
    "  var f = multiply_transpose(transpose(a), c);\n",
    "}\n",
    "'''"
   ]
  },
  {
   "cell_type": "code",
   "execution_count": 6,
   "id": "a28a85e1",
   "metadata": {},
   "outputs": [
    {
     "data": {
      "text/plain": [
       "''"
      ]
     },
     "execution_count": 6,
     "metadata": {},
     "output_type": "execute_result"
    }
   ],
   "source": [
    "from toy.Tokenizer import tokenize, Token\n",
    "\n",
    "[f'{t.line},{t.col}: {t.text} {t.__class__.__name__}' for t in tokenize('example.toy', example_0)]\n",
    "''"
   ]
  },
  {
   "cell_type": "code",
   "execution_count": 7,
   "id": "74b91f1b",
   "metadata": {},
   "outputs": [],
   "source": [
    "from toy.AST import *"
   ]
  },
  {
   "cell_type": "code",
   "execution_count": 8,
   "id": "58ba87ad",
   "metadata": {},
   "outputs": [
    {
     "name": "stdout",
     "output_type": "stream",
     "text": [
      "VarDeclExprAST\n",
      "  name: a\n",
      "  type: VarType(shape=[1, 2])\n",
      "  expr: NumberExprAST\n",
      "    val: 1\n"
     ]
    }
   ],
   "source": [
    "print(VarDeclExprAST(None, 'a', VarType(shape=[1,2]), NumberExprAST(None, 1)).dump())"
   ]
  },
  {
   "cell_type": "code",
   "execution_count": 9,
   "id": "dd72492f",
   "metadata": {},
   "outputs": [
    {
     "name": "stdout",
     "output_type": "stream",
     "text": [
      "ModuleAST\n",
      "  functions: [\n",
      "    FunctionAST\n",
      "      proto: PrototypeAST\n",
      "        name: multiply_transpose\n",
      "        args: [\n",
      "          VariableExprAST\n",
      "            name: a\n",
      "          VariableExprAST\n",
      "            name: b\n",
      "        ]\n",
      "      body: [\n",
      "        ReturnExprAST\n",
      "          expr: BinaryExprAST\n",
      "            op: *\n",
      "            lhs: CallExprAST\n",
      "              callee: transpose\n",
      "              args: [\n",
      "                VariableExprAST\n",
      "                  name: a\n",
      "              ]\n",
      "            rhs: CallExprAST\n",
      "              callee: transpose\n",
      "              args: [\n",
      "                VariableExprAST\n",
      "                  name: b\n",
      "              ]\n",
      "      ]\n",
      "    FunctionAST\n",
      "      proto: PrototypeAST\n",
      "        name: main\n",
      "        args: [\n",
      "        ]\n",
      "      body: [\n",
      "        VarDeclExprAST\n",
      "          name: a\n",
      "          type: VarType(shape=[])\n",
      "          expr: LiteralExprAST\n",
      "            values: [\n",
      "              LiteralExprAST\n",
      "                values: [\n",
      "                  NumberExprAST\n",
      "                    val: 1.0\n",
      "                  NumberExprAST\n",
      "                    val: 2.0\n",
      "                  NumberExprAST\n",
      "                    val: 3.0\n",
      "                ]\n",
      "                dims: [3]\n",
      "              LiteralExprAST\n",
      "                values: [\n",
      "                  NumberExprAST\n",
      "                    val: 4.0\n",
      "                  NumberExprAST\n",
      "                    val: 5.0\n",
      "                  NumberExprAST\n",
      "                    val: 6.0\n",
      "                ]\n",
      "                dims: [3]\n",
      "            ]\n",
      "            dims: [2, 3]\n",
      "        VarDeclExprAST\n",
      "          name: b\n",
      "          type: VarType(shape=[2.0, 3.0])\n",
      "          expr: LiteralExprAST\n",
      "            values: [\n",
      "              NumberExprAST\n",
      "                val: 1.0\n",
      "              NumberExprAST\n",
      "                val: 2.0\n",
      "              NumberExprAST\n",
      "                val: 3.0\n",
      "              NumberExprAST\n",
      "                val: 4.0\n",
      "              NumberExprAST\n",
      "                val: 5.0\n",
      "              NumberExprAST\n",
      "                val: 6.0\n",
      "            ]\n",
      "            dims: [6]\n",
      "        VarDeclExprAST\n",
      "          name: c\n",
      "          type: VarType(shape=[])\n",
      "          expr: CallExprAST\n",
      "            callee: multiply_transpose\n",
      "            args: [\n",
      "              VariableExprAST\n",
      "                name: a\n",
      "              VariableExprAST\n",
      "                name: b\n",
      "            ]\n",
      "        VarDeclExprAST\n",
      "          name: d\n",
      "          type: VarType(shape=[])\n",
      "          expr: CallExprAST\n",
      "            callee: multiply_transpose\n",
      "            args: [\n",
      "              VariableExprAST\n",
      "                name: b\n",
      "              VariableExprAST\n",
      "                name: a\n",
      "            ]\n",
      "        VarDeclExprAST\n",
      "          name: e\n",
      "          type: VarType(shape=[])\n",
      "          expr: CallExprAST\n",
      "            callee: multiply_transpose\n",
      "            args: [\n",
      "              VariableExprAST\n",
      "                name: b\n",
      "              VariableExprAST\n",
      "                name: c\n",
      "            ]\n",
      "        VarDeclExprAST\n",
      "          name: f\n",
      "          type: VarType(shape=[])\n",
      "          expr: CallExprAST\n",
      "            callee: multiply_transpose\n",
      "            args: [\n",
      "              CallExprAST\n",
      "                callee: transpose\n",
      "                args: [\n",
      "                  VariableExprAST\n",
      "                    name: a\n",
      "                ]\n",
      "              VariableExprAST\n",
      "                name: c\n",
      "            ]\n",
      "      ]\n",
      "  ]\n"
     ]
    }
   ],
   "source": [
    "from toy.Parser import Parser\n",
    "\n",
    "\n",
    "parser = Parser('example_0', example_0)\n",
    "\n",
    "print(parser.parseModule().dump())"
   ]
  },
  {
   "cell_type": "code",
   "execution_count": 10,
   "id": "6cf739b2",
   "metadata": {},
   "outputs": [
    {
     "data": {
      "text/plain": [
       "True"
      ]
     },
     "execution_count": 10,
     "metadata": {},
     "output_type": "execute_result"
    }
   ],
   "source": [
    "isinstance(1, int)"
   ]
  },
  {
   "cell_type": "markdown",
   "id": "3c33a7f2",
   "metadata": {},
   "source": [
    "Unlike the MLIR tutorial, we'll leverage one of the parsers in the rich Python ecosystem to parse the syntax of the language for us, as opposed to writing a custom parser."
   ]
  },
  {
   "cell_type": "code",
   "execution_count": 8,
   "id": "85c2f0ca",
   "metadata": {},
   "outputs": [],
   "source": [
    "# To define the grammar\n",
    "from arpeggio import Optional, ZeroOrMore, OneOrMore, EOF\n",
    "from arpeggio import RegExMatch as _\n",
    "from arpeggio import StrMatch\n",
    "\n",
    "# To define the parser\n",
    "from arpeggio import ParserPython\n",
    "\n",
    "# To define the AST traversal\n",
    "from arpeggio import PTNodeVisitor"
   ]
  },
  {
   "cell_type": "code",
   "execution_count": 9,
   "id": "e4ee5311",
   "metadata": {},
   "outputs": [],
   "source": [
    "def return_stmt(): return ['return', ZeroOrMore(expr)]\n",
    "def number():\n",
    "    return _(r'\\d*\\.\\d*|\\d+')\n",
    "def tensor_literal():\n",
    "    return ['[', literal_list, ']'], number\n",
    "def literal_list():\n",
    "    return tensor_literal, [tensor_literal, ',', literal_list]\n",
    "def paren_expr():\n",
    "    return ['(', expr, ')']\n",
    "def print_expr():\n",
    "    return ['print', '(', expr, OneOrMore(expr), ')']\n",
    "def identifier_expr():\n",
    "    return [identifier, Optional(['(', expr, ')'])]\n",
    "def primary():\n",
    "    return print_expr, identifier_expr, number, paren_expr, tensor_literal\n",
    "def op():\n",
    "    return '+', '-', '*'\n",
    "def bin_op_rhs():\n",
    "    return OneOrMore([op, expr])\n",
    "def expr():       \n",
    "    return [primary, Optional(bin_op_rhs)]\n",
    "def _type():\n",
    "    return ['<', number, OneOrMore([',', number]), '>']\n",
    "def decl():\n",
    "    return ['var', identifier, Optional(_type), '=', expr]\n",
    "\n",
    "def block():\n",
    "    return ['{', ZeroOrMore(expr, ';'), '}']\n",
    "def block_expr():\n",
    "    return decl, 'return', expr\n",
    "def prototype():\n",
    "    return ['def', identifier, '(', ZeroOrMore(identifier, ','), ')']\n",
    "def function():\n",
    "    return [prototype, block]\n",
    "\n",
    "def number_expression():\n",
    "    pass\n",
    "def identifier():\n",
    "    return _(r'[\\w]+')\n",
    "\n",
    "def module():\n",
    "    return [ZeroOrMore(function), EOF]\n",
    "\n",
    "# def factor():     return Optional([\"+\",\"-\"]), [number, (\"(\", expression, \")\")]\n",
    "# def term():       return factor, ZeroOrMore([\"*\",\"/\"], factor)\n",
    "# def expression(): return term, ZeroOrMore([\"+\", \"-\"], term)\n",
    "# def calc():       return OneOrMore(expression), EOF"
   ]
  },
  {
   "cell_type": "code",
   "execution_count": 10,
   "id": "c1257d8e",
   "metadata": {},
   "outputs": [
    {
     "name": "stdout",
     "output_type": "stream",
     "text": [
      "New rule: identifier -> RegExMatch\n",
      "Rule identifier founded in cache.\n",
      "New rule: prototype -> OrderedChoice\n",
      "Rule expr founded in cache.\n",
      "CrossRef usage: expr\n",
      "Rule expr founded in cache.\n",
      "CrossRef usage: expr\n",
      "New rule: print_expr -> OrderedChoice\n",
      "Rule identifier founded in cache.\n",
      "Rule expr founded in cache.\n",
      "CrossRef usage: expr\n",
      "New rule: identifier_expr -> OrderedChoice\n",
      "New rule: number -> RegExMatch\n",
      "Rule expr founded in cache.\n",
      "CrossRef usage: expr\n",
      "New rule: paren_expr -> OrderedChoice\n",
      "Rule tensor_literal founded in cache.\n",
      "CrossRef usage: tensor_literal\n",
      "Rule tensor_literal founded in cache.\n",
      "CrossRef usage: tensor_literal\n",
      "Rule literal_list founded in cache.\n",
      "CrossRef usage: literal_list\n",
      "New rule: literal_list -> Sequence\n",
      "Rule number founded in cache.\n",
      "New rule: tensor_literal -> Sequence\n",
      "New rule: primary -> Sequence\n",
      "New rule: op -> Sequence\n",
      "Rule expr founded in cache.\n",
      "CrossRef usage: expr\n",
      "New rule: bin_op_rhs -> OneOrMore\n",
      "New rule: expr -> OrderedChoice\n",
      "New rule: block -> OrderedChoice\n",
      "New rule: function -> OrderedChoice\n",
      "New rule: EOF -> EndOfFile\n",
      "New rule: module -> OrderedChoice\n"
     ]
    }
   ],
   "source": [
    "parser = ParserPython(module, debug=True)"
   ]
  },
  {
   "cell_type": "code",
   "execution_count": 288,
   "id": "166e4085",
   "metadata": {},
   "outputs": [
    {
     "ename": "AttributeError",
     "evalue": "'Parser' object has no attribute 'parse'",
     "output_type": "error",
     "traceback": [
      "\u001b[0;31m---------------------------------------------------------------------------\u001b[0m",
      "\u001b[0;31mAttributeError\u001b[0m                            Traceback (most recent call last)",
      "Input \u001b[0;32mIn [288]\u001b[0m, in \u001b[0;36m<cell line: 1>\u001b[0;34m()\u001b[0m\n\u001b[0;32m----> 1\u001b[0m bla \u001b[38;5;241m=\u001b[39m \u001b[43mparser\u001b[49m\u001b[38;5;241;43m.\u001b[39;49m\u001b[43mparse\u001b[49m(example_0)\n",
      "\u001b[0;31mAttributeError\u001b[0m: 'Parser' object has no attribute 'parse'"
     ]
    }
   ],
   "source": [
    "bla = parser.parse(example_0)"
   ]
  },
  {
   "cell_type": "code",
   "execution_count": 39,
   "id": "4a073b25",
   "metadata": {},
   "outputs": [
    {
     "data": {
      "text/plain": [
       "[  'return' [0], expression 'hello' [7] ]"
      ]
     },
     "execution_count": 39,
     "metadata": {},
     "output_type": "execute_result"
    }
   ],
   "source": [
    "bla"
   ]
  },
  {
   "cell_type": "code",
   "execution_count": 4,
   "id": "5912a177",
   "metadata": {},
   "outputs": [],
   "source": [
    "\n",
    "class ToyVisitor(PTNodeVisitor):\n",
    "    def visit_return(self, node, children):\n",
    "        "
   ]
  },
  {
   "cell_type": "code",
   "execution_count": null,
   "id": "1bf180f3",
   "metadata": {},
   "outputs": [],
   "source": []
  }
 ],
 "metadata": {
  "kernelspec": {
   "display_name": "Python 3.10.5 ('venv': venv)",
   "language": "python",
   "name": "python3"
  },
  "language_info": {
   "codemirror_mode": {
    "name": "ipython",
    "version": 3
   },
   "file_extension": ".py",
   "mimetype": "text/x-python",
   "name": "python",
   "nbconvert_exporter": "python",
   "pygments_lexer": "ipython3",
   "version": "3.10.5"
  },
  "vscode": {
   "interpreter": {
    "hash": "fda08596110b9a36b84966695987440228e4b909cf8fcaa87f570c5f74df3470"
   }
  }
 },
 "nbformat": 4,
 "nbformat_minor": 5
}
