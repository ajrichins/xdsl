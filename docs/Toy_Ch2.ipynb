{
 "cells": [
  {
   "cell_type": "markdown",
   "id": "56341c66",
   "metadata": {},
   "source": [
    "# Chapter 2: Emitting Basic MLIR\n",
    "\n",
    "This is an xDSL version of the Toy compiler, as described in the [MLIR tutorial](https://mlir.llvm.org/docs/Tutorials/Toy/)\n",
    "\n",
    "This tutorial will be illustrated with a toy language that we’ll call “Toy” (naming is hard…). Toy is a tensor-based language that allows you to define functions, perform some math computation, and print results."
   ]
  },
  {
   "cell_type": "code",
   "execution_count": 1,
   "id": "58a8424e",
   "metadata": {},
   "outputs": [],
   "source": [
    "from xdsl.ir import MLContext, SSAValue, Operation\n",
    "from xdsl.dialects.toy import *\n",
    "from xdsl.dialects.builtin import ModuleOp\n",
    "from typing import List\n"
   ]
  },
  {
   "cell_type": "code",
   "execution_count": 2,
   "id": "abdb6268",
   "metadata": {},
   "outputs": [],
   "source": [
    "%load_ext autoreload\n",
    "%autoreload 2\n",
    "\n",
    "from xdsl.printer import Printer"
   ]
  },
  {
   "cell_type": "code",
   "execution_count": 3,
   "id": "2f24f9e0",
   "metadata": {},
   "outputs": [],
   "source": [
    "# MLContext, containing information about the registered dialects\n",
    "context = MLContext()\n",
    "\n",
    "toy = Toy(context)\n",
    "\n",
    "# Printer used to pretty-print MLIR data structures\n",
    "printer = Printer(target=Printer.Target.MLIR)"
   ]
  },
  {
   "cell_type": "code",
   "execution_count": 4,
   "id": "82230c1b",
   "metadata": {},
   "outputs": [
    {
     "name": "stdout",
     "output_type": "stream",
     "text": [
      "\"builtin.module\"() ({\n",
      "  \"toy.func\"() ({\n",
      "  ^0(%0 : tensor<1xf64>, %1 : tensor<1xf64>):\n",
      "    %2 = \"toy.transpose\"(%0) : (tensor<1xf64>) -> tensor<1xf64>\n",
      "    %3 = \"toy.transpose\"(%1) : (tensor<1xf64>) -> tensor<1xf64>\n",
      "    %4 = \"toy.mul\"(%2, %3) : (tensor<1xf64>, tensor<1xf64>) -> tensor<1xf64>\n",
      "    \"toy.return\"(%4) : (tensor<1xf64>) -> ()\n",
      "  }) {sym_name = \"multiply_transpose\", function_type = (tensor<1xf64>, tensor<1xf64>) -> tensor<1xf64>} : () -> ()\n",
      "  \"toy.func\"() ({\n",
      "    %5 = \"toy.constant\"() {value = dense<[[1.000000e+00, 2.000000e+00, 3.000000e+00], [4.000000e+00, 5.000000e+00, 6.000000e+00]]> : tensor<2x3xf64>} : () -> tensor<2x3xf64>\n",
      "    %6 = \"toy.reshape\"(%5) : (tensor<2x3xf64>) -> tensor<2x3xf64>\n",
      "    %7 = \"toy.constant\"() {value = dense<[[1.000000e+00, 2.000000e+00, 3.000000e+00], [4.000000e+00, 5.000000e+00, 6.000000e+00]]> : tensor<2x3xf64>} : () -> tensor<2x3xf64>\n",
      "    %8 = \"toy.reshape\"(%7) : (tensor<2x3xf64>) -> tensor<2x3xf64>\n",
      "    %9 = \"toy.generic_call\"(%6, %8) {callee = @multiply_transpose} : (tensor<2x3xf64>, tensor<2x3xf64>) -> tensor<2x3xf64>\n",
      "    %10 = \"toy.generic_call\"(%8, %6) {callee = @multiply_transpose} : (tensor<2x3xf64>, tensor<2x3xf64>) -> tensor<2x3xf64>\n",
      "    \"toy.print\"(%10) : (tensor<2x3xf64>) -> ()\n",
      "    \"toy.return\"(%10) : (tensor<2x3xf64>) -> ()\n",
      "  }) {sym_name = \"main\", function_type = () -> ()} : () -> ()\n",
      "}) : () -> ()\n"
     ]
    }
   ],
   "source": [
    "def func_body(arg0: SSAValue, arg1: SSAValue) -> List[Operation]:\n",
    "    f0 = TransposeOp.from_input(arg0)\n",
    "    f1 = TransposeOp.from_input(arg1)\n",
    "    f2 = MulOp.from_summands(f0.results[0], f1.results[0])\n",
    "    f3 = ReturnOp.from_input(f2.results[0])\n",
    "    return [f0, f1, f2, f3]\n",
    "\n",
    "def main_body() -> List[Operation]:\n",
    "    m0 = ConstantOp.from_list([1.0, 2.0, 3.0, 4.0, 5.0, 6.0], [2, 3])\n",
    "    m1 = ReshapeOp.from_input(m0.results[0], [2,3])\n",
    "    m2 = ConstantOp.from_list([1.0, 2.0, 3.0, 4.0, 5.0, 6.0], [2, 3])\n",
    "    m3 = ReshapeOp.from_input(m2.results[0], [2,3])\n",
    "    m4 = GenericCallOp.get('multiply_transpose', [m1.results[0], m3.results[0]], [TensorType.from_type_and_list(f64, [2, 3])])\n",
    "    m5 = GenericCallOp.get('multiply_transpose', [m3.results[0], m1.results[0]], [TensorType.from_type_and_list(f64, [2, 3])])\n",
    "    m6 = PrintOp.from_input(m5.results[0])\n",
    "    m7 = ReturnOp.from_input(m5.results[0])\n",
    "    return [\n",
    "        m0, m1, m2, m3, m4, m5, m6, m7\n",
    "    ]\n",
    "\n",
    "multiply_transpose = FuncOp.from_callable('multiply_transpose', [TensorTypeF64, TensorTypeF64], [TensorTypeF64], func_body)\n",
    "main = FuncOp.from_callable('main', [], [], main_body)\n",
    "\n",
    "module = ModuleOp.from_region_or_ops([multiply_transpose, main])\n",
    "\n",
    "printer.print(module)"
   ]
  },
  {
   "cell_type": "code",
   "execution_count": 5,
   "id": "3e54cb62",
   "metadata": {},
   "outputs": [
    {
     "name": "stdout",
     "output_type": "stream",
     "text": [
      "%11 = \"toy.constant\"() {value = dense<[[1.000000e+00, 2.000000e+00, 3.000000e+00], [4.000000e+00, 5.000000e+00, 6.000000e+00]]> : tensor<2x3xf64>} : () -> tensor<2x3xf64>\n"
     ]
    }
   ],
   "source": [
    "\n",
    "\n",
    "const_op = ConstantOp.from_list([1.0, 2.0, 3.0, 4.0, 5.0, 6.0], [2, 3])\n",
    "printer.print_op(const_op)"
   ]
  },
  {
   "cell_type": "code",
   "execution_count": 6,
   "id": "e798e5c8",
   "metadata": {},
   "outputs": [],
   "source": [
    "# %0 : !tensor<[2 : !index, 3 : !index], !f64> = toy.constant() [\"value\" = !dense<!tensor<[2 : !index, 3 : !index], !f64>, [1.0 : !f64, 2.0 : !f64, 3.0 : !f64, 4.0 : !f64, 5.0 : !f64, 6.0 : !f64]>]\n",
    "# %0 = \"toy.constant\"() {\"value\" = dense<[1.0, 2.0, 3.0, 4.0, 5.0, 6.0]> : tensor<2x3x!f64>} : () -> tensor<2x3x!f64>\n"
   ]
  },
  {
   "cell_type": "code",
   "execution_count": 7,
   "id": "56359230",
   "metadata": {},
   "outputs": [
    {
     "name": "stdout",
     "output_type": "stream",
     "text": [
      "#int<42>"
     ]
    }
   ],
   "source": [
    "from xdsl.dialects.builtin import IntAttr\n",
    "\n",
    "my_int = IntAttr.from_int(42)\n",
    "printer.print_attribute(my_int)"
   ]
  },
  {
   "cell_type": "code",
   "execution_count": 8,
   "id": "7c1c094f",
   "metadata": {},
   "outputs": [],
   "source": [
    "from pathlib import Path\n",
    "\n",
    "ast_toy = Path() / 'toy' / 'ast.toy'"
   ]
  },
  {
   "cell_type": "code",
   "execution_count": 9,
   "id": "a28a85e1",
   "metadata": {},
   "outputs": [
    {
     "name": "stdout",
     "output_type": "stream",
     "text": [
      "# RUN: toyc-ch1 %s -emit=ast 2>&1 | FileCheck %s\n",
      "\n",
      "# User defined generic function that operates on unknown shaped arguments.\n",
      "def multiply_transpose(a, b) {\n",
      "  return transpose(a) * transpose(b);\n",
      "}\n",
      "\n",
      "def main() {\n",
      "  # Define a variable `a` with shape <2, 3>, initialized with the literal value.\n",
      "  # The shape is inferred from the supplied literal.\n",
      "  var a = [[1, 2, 3], [4, 5, 6]];\n",
      "  # b is identical to a, the literal array is implicitly reshaped: defining new\n",
      "  # variables is the way to reshape arrays (element count in literal must match\n",
      "  # the size of specified shape).\n",
      "  var b<2, 3> = [1, 2, 3, 4, 5, 6];\n",
      "\n",
      "  # This call will specialize `multiply_transpose` with <2, 3> for both\n",
      "  # arguments and deduce a return type of <2, 2> in initialization of `c`.\n",
      "  var c = multiply_transpose(a, b);\n",
      "  # A second call to `multiply_transpose` with <2, 3> for both arguments will\n",
      "  # reuse the previously specialized and inferred version and return `<2, 2>`\n",
      "  var d = multiply_transpose(b, a);\n",
      "  # A new call with `<2, 2>` for both dimension will trigger another\n",
      "  # specialization of `multiply_transpose`.\n",
      "  var e = multiply_transpose(b, c);\n",
      "  # Finally, calling into `multiply_transpose` with incompatible shape will\n",
      "  # trigger a shape inference error.\n",
      "  var f = multiply_transpose(transpose(a), c);\n",
      "}\n",
      "\n",
      "\n",
      "# CHECK: Module:\n",
      "# CHECK-NEXT:     Function\n",
      "# CHECK-NEXT:       Proto 'multiply_transpose' @{{.*}}ast.toy:4:1\n",
      "# CHECK-NEXT:       Params: [a, b]\n",
      "# CHECK-NEXT:       Block {\n",
      "# CHECK-NEXT:         Return\n",
      "# CHECK-NEXT:           BinOp: * @{{.*}}ast.toy:5:25\n",
      "# CHECK-NEXT:             Call 'transpose' [ @{{.*}}ast.toy:5:10\n",
      "# CHECK-NEXT:               var: a @{{.*}}ast.toy:5:20\n",
      "# CHECK-NEXT:             ]\n",
      "# CHECK-NEXT:             Call 'transpose' [ @{{.*}}ast.toy:5:25\n",
      "# CHECK-NEXT:               var: b @{{.*}}ast.toy:5:35\n",
      "# CHECK-NEXT:             ]\n",
      "# CHECK-NEXT:       } // Block\n",
      "# CHECK-NEXT:     Function\n",
      "# CHECK-NEXT:       Proto 'main' @{{.*}}ast.toy:8:1\n",
      "# CHECK-NEXT:       Params: []\n",
      "# CHECK-NEXT:       Block {\n",
      "# CHECK-NEXT:         VarDecl a<> @{{.*}}ast.toy:11:3\n",
      "# CHECK-NEXT:           Literal: <2, 3>[ <3>[ 1.000000e+00, 2.000000e+00, 3.000000e+00], <3>[ 4.000000e+00, 5.000000e+00, 6.000000e+00]] @{{.*}}ast.toy:11:11\n",
      "# CHECK-NEXT:         VarDecl b<2, 3> @{{.*}}ast.toy:15:3\n",
      "# CHECK-NEXT:           Literal: <6>[ 1.000000e+00, 2.000000e+00, 3.000000e+00, 4.000000e+00, 5.000000e+00, 6.000000e+00] @{{.*}}ast.toy:15:17\n",
      "# CHECK-NEXT:         VarDecl c<> @{{.*}}ast.toy:19:3\n",
      "# CHECK-NEXT:           Call 'multiply_transpose' [ @{{.*}}ast.toy:19:11\n",
      "# CHECK-NEXT:             var: a @{{.*}}ast.toy:19:30\n",
      "# CHECK-NEXT:             var: b @{{.*}}ast.toy:19:33\n",
      "# CHECK-NEXT:           ]\n",
      "# CHECK-NEXT:         VarDecl d<> @{{.*}}ast.toy:22:3\n",
      "# CHECK-NEXT:           Call 'multiply_transpose' [ @{{.*}}ast.toy:22:11\n",
      "# CHECK-NEXT:             var: b @{{.*}}ast.toy:22:30\n",
      "# CHECK-NEXT:             var: a @{{.*}}ast.toy:22:33\n",
      "# CHECK-NEXT:           ]\n",
      "# CHECK-NEXT:         VarDecl e<> @{{.*}}ast.toy:25:3\n",
      "# CHECK-NEXT:           Call 'multiply_transpose' [ @{{.*}}ast.toy:25:11\n",
      "# CHECK-NEXT:             var: b @{{.*}}ast.toy:25:30\n",
      "# CHECK-NEXT:             var: c @{{.*}}ast.toy:25:33\n",
      "# CHECK-NEXT:           ]\n",
      "# CHECK-NEXT:         VarDecl f<> @{{.*}}ast.toy:28:3\n",
      "# CHECK-NEXT:           Call 'multiply_transpose' [ @{{.*}}ast.toy:28:11\n",
      "# CHECK-NEXT:             Call 'transpose' [ @{{.*}}ast.toy:28:30\n",
      "# CHECK-NEXT:               var: a @{{.*}}ast.toy:28:40\n",
      "# CHECK-NEXT:             ]\n",
      "# CHECK-NEXT:             var: c @{{.*}}ast.toy:28:44\n",
      "# CHECK-NEXT:           ]\n",
      "\n",
      "\n"
     ]
    }
   ],
   "source": [
    "with open(ast_toy, 'r') as f:\n",
    "    print(f.read())"
   ]
  },
  {
   "cell_type": "code",
   "execution_count": 10,
   "id": "dd72492f",
   "metadata": {},
   "outputs": [
    {
     "name": "stdout",
     "output_type": "stream",
     "text": [
      "Module:\n",
      "  Function \n",
      "    Proto 'multiply_transpose' toy/ast.toy:4:1'\n",
      "    Params: [a, b]\n",
      "    Block {\n",
      "      Return\n",
      "        BinOp: * toy/ast.toy:5:25\n",
      "          Call 'transpose' [ toy/ast.toy:5:10\n",
      "            var: a toy/ast.toy:5:20\n",
      "          ]\n",
      "          Call 'transpose' [ toy/ast.toy:5:25\n",
      "            var: b toy/ast.toy:5:35\n",
      "          ]\n",
      "    } // Block\n",
      "  Function \n",
      "    Proto 'main' toy/ast.toy:8:1'\n",
      "    Params: []\n",
      "    Block {\n",
      "      VarDecl a<> toy/ast.toy:11:3\n",
      "        Literal: <2, 3>[ <3>[ 1.000000e+00, 2.000000e+00, 3.000000e+00], <3>[ 4.000000e+00, 5.000000e+00, 6.000000e+00]] toy/ast.toy:11:11\n",
      "      VarDecl b<2, 3> toy/ast.toy:15:3\n",
      "        Literal: <6>[ 1.000000e+00, 2.000000e+00, 3.000000e+00, 4.000000e+00, 5.000000e+00, 6.000000e+00] toy/ast.toy:15:17\n",
      "      VarDecl c<> toy/ast.toy:19:3\n",
      "        Call 'multiply_transpose' [ toy/ast.toy:19:11\n",
      "          var: a toy/ast.toy:19:30\n",
      "          var: b toy/ast.toy:19:33\n",
      "        ]\n",
      "      VarDecl d<> toy/ast.toy:22:3\n",
      "        Call 'multiply_transpose' [ toy/ast.toy:22:11\n",
      "          var: b toy/ast.toy:22:30\n",
      "          var: a toy/ast.toy:22:33\n",
      "        ]\n",
      "      VarDecl e<> toy/ast.toy:25:3\n",
      "        Call 'multiply_transpose' [ toy/ast.toy:25:11\n",
      "          var: b toy/ast.toy:25:30\n",
      "          var: c toy/ast.toy:25:33\n",
      "        ]\n",
      "      VarDecl f<> toy/ast.toy:28:3\n",
      "        Call 'multiply_transpose' [ toy/ast.toy:28:11\n",
      "          Call 'transpose' [ toy/ast.toy:28:30\n",
      "            var: a toy/ast.toy:28:40\n",
      "          ]\n",
      "          var: c toy/ast.toy:28:44\n",
      "        ]\n",
      "    } // Block\n",
      "\n"
     ]
    }
   ],
   "source": [
    "from toy.Parser import Parser\n",
    "\n",
    "with open(ast_toy, 'r') as f:\n",
    "    parser = Parser(ast_toy, f.read())\n",
    "\n",
    "print(parser.parseModule().dump())"
   ]
  },
  {
   "cell_type": "code",
   "execution_count": 11,
   "id": "457b149b",
   "metadata": {},
   "outputs": [
    {
     "data": {
      "text/plain": [
       "'<lambda>'"
      ]
     },
     "execution_count": 11,
     "metadata": {},
     "output_type": "execute_result"
    }
   ],
   "source": [
    "def hello(bla):\n",
    "    print(bla)\n",
    "\n",
    "bla = lambda x: print(x)\n",
    "\n",
    "bla.__name__"
   ]
  }
 ],
 "metadata": {
  "kernelspec": {
   "display_name": "Python 3.10.5 ('venv': venv)",
   "language": "python",
   "name": "python3"
  },
  "language_info": {
   "codemirror_mode": {
    "name": "ipython",
    "version": 3
   },
   "file_extension": ".py",
   "mimetype": "text/x-python",
   "name": "python",
   "nbconvert_exporter": "python",
   "pygments_lexer": "ipython3",
   "version": "3.11.0"
  },
  "vscode": {
   "interpreter": {
    "hash": "fda08596110b9a36b84966695987440228e4b909cf8fcaa87f570c5f74df3470"
   }
  }
 },
 "nbformat": 4,
 "nbformat_minor": 5
}
