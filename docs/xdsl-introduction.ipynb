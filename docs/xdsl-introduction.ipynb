{
 "cells": [
  {
   "cell_type": "markdown",
   "id": "81ccec58-8c70-4a47-b167-558ae3903bfb",
   "metadata": {},
   "source": [
    "# Introudction to xDSL / MLIR concepts\n",
    "\n",
    "xDSL is a framework to make it easy to define programming languages. These languages can provide abstractions levels which, for example, enables compiler to perform optimisations more effectively, by making information more accessible to the compiler."
   ]
  },
  {
   "cell_type": "markdown",
   "id": "ca733af2-dd0f-400f-9b69-de1878d69443",
   "metadata": {},
   "source": [
    "## Static Single Assignment (SSA) \n",
    "The kind of programming languages xDSL defines all have the $\\textit{static single assignment}$ (SSA) property. It is a property on variables that means they can be assigned a value only once, and once assigned a value, they cannot be modified. This is a common restriction used within compilers, as it enables many compiler optimisations to be performed."
   ]
  },
  {
   "attachments": {},
   "cell_type": "markdown",
   "id": "dad38085-b043-4802-be48-921e15885478",
   "metadata": {},
   "source": [
    "## xDSL\n",
    "A major focus of xDSL (and MLIR) is on reusability. \n",
    "\n",
    "Therefore, often fragments of a language is defined, rather than a full language, which allows them to be used in many situations. Some examples include:\n",
    "* `arith`, which contains arithmetic operations such as `add`, `multiply`, and types such as `float`s, `int`s.\n",
    "* `scf`, which contains structural control flow operations such as `if-else`, and `while` loops.\n",
    "\n",
    "These fragments of languages are referred to as a `dialect`. A dialect is comprised of:\n",
    "* a collection of attributes. attributes represent information which are available during compile time. Attributes can be:\n",
    "    * types - (for instance `float` within `arith` dialect; `memref` within `memref` dialect, representing pointers / references)\n",
    "    * data - (these are extra compile-time information provided within the IR, \n",
    "* a collection of operations (\n",
    "\n",
    "As such, languages defined in xDSL can be combined together, where the combined language can benefit from the optimisations of all its constituents.\n",
    "\n",
    "When a DSL is defined in xDSL, it comes "
   ]
  },
  {
   "cell_type": "code",
   "execution_count": null,
   "id": "bfe31cba-3553-49d6-baef-c61989d6df63",
   "metadata": {},
   "outputs": [],
   "source": []
  }
 ],
 "metadata": {
  "kernelspec": {
   "display_name": "Python 3",
   "language": "python",
   "name": "python3"
  },
  "language_info": {
   "codemirror_mode": {
    "name": "ipython",
    "version": 3
   },
   "file_extension": ".py",
   "mimetype": "text/x-python",
   "name": "python",
   "nbconvert_exporter": "python",
   "pygments_lexer": "ipython3",
   "version": "3.10.8 (main, Oct 12 2022, 19:14:26) [GCC 9.4.0]"
  },
  "vscode": {
   "interpreter": {
    "hash": "97cc609b13305c559618ec78a438abc56230b9381f827f22d070313b9a1f3777"
   }
  }
 },
 "nbformat": 4,
 "nbformat_minor": 5
}
