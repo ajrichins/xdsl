{
 "cells": [
  {
   "cell_type": "markdown",
   "id": "81ccec58-8c70-4a47-b167-558ae3903bfb",
   "metadata": {},
   "source": [
    "# Why xDSL?\n",
    "\n",
    "Most programming languages are rather far removed from Assembly code. As a result, translating a language directly into Assembly is both difficult (easy to make mistakes) and inefficient (generated Assembly code is slow!). Therefore, most compilers goes through many intermediate representations / languages (IRs), which represents different layers of abstractions, to provide an efficient translation down to Assembly code - which is also feasible for compiler engineers to write. \n",
    "\n",
    "Although an effective approach, over the years it has become apparent that many compilers are repeatedly defining similar intermediate languages. Given the separate architecture of different compilers, it has been quite difficult to reuse code between architectures. \n",
    "\n",
    "Previous projects such as LLVM has provided a common abstraction layer for different compilers to reuse - however this is only one layer, and compilers of different domains are still having to repeat significant amounts of work to reach the LLVM level. \n",
    "\n",
    "LLVM is also not necessarily the ideal layer to perform optimisations on - thus many compilers will also implement their own implementations on custom IRs before they reach LLVM.\n",
    "\n",
    "MLIR, and its Python parallel, xDSL, are frameworks to make it easy to:\n",
    "1. Define custom abstraction layers for compilers\n",
    "2. Reuse abstractions from other compilers\n",
    "3. Encode domain-specific knowledge (i.e. optimisations) within these abstraction layers\n",
    "\n",
    "<!-- Covered here: --!>\n",
    "<!-- - How compilers use IRs --!>\n",
    "<!-- - Why a framework for IRs are needed and is useful (ease of specifying optimisations)  --!>"
   ]
  },
  {
   "cell_type": "markdown",
   "id": "6f22e5fe-8f6c-4da5-9f82-b1a39d21abcc",
   "metadata": {},
   "source": [
    "# General Concepts\n",
    "\n",
    "The kind of IRs that xDSL builds are SSA-based - a restriction placed on IRs which makes it easy for analysis of the code."
   ]
  },
  {
   "cell_type": "markdown",
   "id": "ca733af2-dd0f-400f-9b69-de1878d69443",
   "metadata": {
    "tags": []
   },
   "source": [
    "### Static Single Assignment (SSA) \n",
    "The kind of programming languages xDSL defines all have the $\\textit{static single assignment}$ (SSA) property. It is a property on variables that means they can be assigned a value only once, and once assigned a value, they cannot be modified. This is a common restriction used within compilers, as it enables many compiler optimisations to be performed.\n",
    "\n",
    "Further reading: https://en.wikipedia.org/wiki/Static_single-assignment_form"
   ]
  },
  {
   "cell_type": "markdown",
   "id": "232650be-8d85-4ec8-9740-89bb7afa6c84",
   "metadata": {},
   "source": [
    "# xDSL/MLIR\n",
    "xDSL and MLIR are distinct frameworks for compiler IR specification, however, they are built upon similar basic concepts."
   ]
  },
  {
   "cell_type": "markdown",
   "id": "2c77836c-5ac4-4ec0-b8de-65565cb118c7",
   "metadata": {},
   "source": [
    "## What is an IR, anyway?\n",
    "\n",
    "xDSL is a framework for modelling/specifying IRs. Before we go into the details of xDSL, it is perhaps useful to take a step back and consider what exactly an IR is!\n",
    "\n",
    "Code can be represented in a human-readable textual format - however strings are difficult for compilers to handle. An IR is an *equivalent*, structured representation of code convenient for machines to parse through. \n",
    "\n",
    "Importantly, it is solely a representation of the code - and is not executable!\n",
    "\n",
    "Wikipedia has a nice article as a starting point for further reading: https://en.wikipedia.org/wiki/Intermediate_representation"
   ]
  },
  {
   "cell_type": "markdown",
   "id": "36baf4f6-222a-46f9-8751-7941753981c3",
   "metadata": {
    "tags": []
   },
   "source": [
    "## Programming language syntax\n",
    "All programming languages will have a set of \"language construct\", or, the _vocabulary_ available within the programming language.\n",
    "\n",
    "These constructs can be composed together, forming \"expressions\" - which are sentences that _could_ be evaluated to a value. \n",
    "\n",
    "Just like in English, though, vocabulary (words) cannot be composed together arbitrarily - they should follow the syntactical rules of the language. For programming languages this is known as the _syntax_ of the language, and is often specified in terms of a [grammar](https://en.wikipedia.org/wiki/Formal_grammar).\n",
    "\n",
    "Here are some examples of building blocks within various languages:\n",
    "* Arithmetic: a language that describes arithmetic might have constructs including:\n",
    "    * `+, -, x, /, round, max`\n",
    "    * The values of this language are real numbers (floats, say). \n",
    "    * One syntax rule in this language is that each construct should take in either values, or other valid expressions.\n",
    "* Python: includes too many constructs to fit in this code block, but some examples include: \n",
    "    * `for, if, while, assert, def, class, import`\n",
    "    * Since Python is object-oriented, values in Python language are objects.\n",
    "    * A valid expression in Python would follow the [Python grammar](https://docs.python.org/3/reference/grammar.html), a rather large document specifying all syntax rules of Python. "
   ]
  },
  {
   "cell_type": "markdown",
   "id": "d6bdd931-48aa-46df-9016-6535986d1edc",
   "metadata": {
    "tags": []
   },
   "source": [
    "## Programming language semantics\n",
    "<!-- In English, a sentence being grammartically correct is not enough for it to convey _meaning_. With the wrong combination of words, it would still be a meaningless sentence! -->\n",
    "\n",
    "<!-- Similarly for programming languages, not all syntactically correct sentences are valid. For instance, the following is a valid C++ expression: -->\n",
    "<!--     `50 + *nullptr` -->\n",
    "<!-- yet when executed, it will not always yield the same value - that is, the expression does not have a well-defined value associated with it. And so, it is difficult to associate a sensible value to the <!-- expression. -->\n",
    "\n",
    "<!-- Whilst the exact meaning of phrases is a hazy concept for English sentences, it is possible to define exactly what an expression in a programming language calculates. The semantics of a programming language is a map from programs written within it, to the values it evaluates to. -->\n",
    "\n",
    "<!-- However, in industrial languages the semantics is often not specified concretely, rather programmers and compilers have an intuitive understanding of what values an expression calculates -->"
   ]
  },
  {
   "cell_type": "markdown",
   "id": "6d01e2ad-9fde-47d9-932e-26183b907548",
   "metadata": {
    "tags": []
   },
   "source": [
    "## xDSL: A tool for designing languages for compilers\n",
    "\n",
    "\n",
    "xDSL provides the tools for describing IRs. To do so, it needs to be general enough to fit the wide range of potential designs and uses of language constructs.\n",
    "\n",
    "xDSL and MLIR achieves this by introducing two concepts, `operations` and `attributes`:\n",
    "1. `operations`, which is an abstract form of \"language constructs\" - think reserved keywords and built-in operations within a programming language.\n",
    "    * Examples of things that _can_ be operations: if/else/for/while statements, arithmetic operations (+, -, *, /), memory reference operators (e.g. &, * in C++)\n",
    "2. `attributes`, which are generic constructs able to store extra information that is available at _compile time_. \n",
    "    * Examples of things that _can_ be attributes: types (float32, tensor<10x5, float>, function), data which are present within the code that affects semantics of operations (e.g. the stride to use in a convolution operation), stores for [dataflow analysis](https://clang.llvm.org/docs/DataFlowAnalysisIntro.html) (liveness, range analysis)\n",
    "    \n",
    "As you can see, operations and attributes are both very general constructs, able to describe a vast range of objects. We will see how exactly this is achieved in the following sections.\n",
    "\n",
    "This will also be followed by more concrete examples in action."
   ]
  },
  {
   "cell_type": "markdown",
   "id": "230c0539-e795-4187-a090-57a08f512fd5",
   "metadata": {},
   "source": [
    "### Operations: Modelling general language constructs\n",
    "\n",
    "Operations describes the general concept of a \"language construct\", or, the _vocabulary_ available within the programming language. A language would have many of these constructs, which can be composed together to form _expressions_ - things which can be evaluated to some value.\n",
    "\n",
    "Some examples of expressions:\n",
    "\n",
    "In Python\n",
    "\n"
   ]
  },
  {
   "cell_type": "markdown",
   "id": "8d3f308b-2f48-456f-9cd4-d1aeed538231",
   "metadata": {},
   "source": [
    "### Blocks: "
   ]
  },
  {
   "cell_type": "markdown",
   "id": "cb8be6bd-ce9c-4bff-900c-04b284e29be8",
   "metadata": {
    "tags": []
   },
   "source": [
    "### Regions"
   ]
  },
  {
   "cell_type": "markdown",
   "id": "544756f3-15bf-4cfa-af33-78bcc332f5ad",
   "metadata": {},
   "source": [
    "### Attributes"
   ]
  },
  {
   "cell_type": "markdown",
   "id": "b6a6a333-bf6b-4d05-8fa5-0875f6af9964",
   "metadata": {},
   "source": [
    "### Dialects\n",
    "Languages in xDSL are known as `dialects` - which is a grouping of related operations and attributes. For instance, \n",
    "- The `scf` (structured control flow) dialect groups together operations such as: for/while loops, reduce, yield, if/else statements, etc\n",
    "- The `arith` (arithmetic) dialect groups together arithmetic operations, such as: comparison, int/floating point addition/multiplication, or/xor/and logical bitwise operations, and so on\n",
    "- The `async` (asynchornous) dialect groups together operations commonly seen in async applications, as well as associated attributes (types).\n",
    "    - Operations include: asynchronous calls, waits, async functions, etc\n",
    "    - Attributes include: coroutine reference types, future types, etc\n",
    "\n",
    "Dialects can be _combined together_, which makes it possible to define unions of multiple dialects, which has features from all of the dialects."
   ]
  },
  {
   "cell_type": "code",
   "execution_count": null,
   "id": "3bcc71e6-5287-4275-b761-f9a5e2abfa4b",
   "metadata": {},
   "outputs": [],
   "source": []
  },
  {
   "cell_type": "markdown",
   "id": "93318d27-cbf0-46b0-97cd-b455c40bd00a",
   "metadata": {},
   "source": []
  },
  {
   "cell_type": "code",
   "execution_count": null,
   "id": "a574aef1-ee7d-4c3e-bd66-f9afbed2bb25",
   "metadata": {},
   "outputs": [],
   "source": []
  },
  {
   "cell_type": "code",
   "execution_count": null,
   "id": "65177a97-fc2b-4fdf-865b-97775ff94aa5",
   "metadata": {},
   "outputs": [],
   "source": []
  },
  {
   "cell_type": "code",
   "execution_count": null,
   "id": "e7cd0c10-f999-4414-ad63-8f5874c19fc0",
   "metadata": {},
   "outputs": [],
   "source": []
  },
  {
   "cell_type": "code",
   "execution_count": null,
   "id": "3eb8b5f2-eb55-4898-b470-8a5eddc45682",
   "metadata": {},
   "outputs": [],
   "source": []
  },
  {
   "cell_type": "markdown",
   "id": "dfbdf668-3279-4092-b510-947e4ca90ce1",
   "metadata": {},
   "source": [
    "# DRAFT SECTION"
   ]
  },
  {
   "cell_type": "markdown",
   "id": "492446fe-8e06-40ad-8b93-72d2922dd1a0",
   "metadata": {
    "tags": []
   },
   "source": [
    "# Constructs inside your toolkit \n",
    "\n",
    "- concepts\n",
    "    - operations\n",
    "    - dialects\n",
    "    - regions\n",
    "    - attributes (compile time data and types)"
   ]
  },
  {
   "cell_type": "markdown",
   "id": "68f04d3c-5850-4150-91ed-f3dc7f3446ee",
   "metadata": {},
   "source": [
    "# MLIR/xDSL examples\n",
    "Here's where the previous concepts come together\n",
    "\n",
    "- An SQL-like representation\n",
    "- A subset of Python, just for demonstration purposes\n",
    "- Toy dialect\n",
    "- Existing dialects, e.g. scf and arith\n",
    "\n",
    "Would also be nice to have some examples of dialects being used together, e.g. the standard arith + if statements stuff?"
   ]
  },
  {
   "cell_type": "markdown",
   "id": "7158800e-fe72-4bc7-a1d4-5375c4ff2d81",
   "metadata": {},
   "source": [
    "# Transforming the IR\n",
    "- E.g. implementation of optimisations on the SQL-like representation\n",
    "- Implementation of a lowering, say from Toy? Or say, from Python to C++"
   ]
  },
  {
   "cell_type": "code",
   "execution_count": null,
   "id": "ae606fcd-1b0a-4969-83ae-de6a136549ed",
   "metadata": {},
   "outputs": [],
   "source": []
  }
 ],
 "metadata": {
  "kernelspec": {
   "display_name": "Python 3 (ipykernel)",
   "language": "python",
   "name": "python3"
  },
  "language_info": {
   "codemirror_mode": {
    "name": "ipython",
    "version": 3
   },
   "file_extension": ".py",
   "mimetype": "text/x-python",
   "name": "python",
   "nbconvert_exporter": "python",
   "pygments_lexer": "ipython3",
   "version": "3.10.8"
  },
  "vscode": {
   "interpreter": {
    "hash": "97cc609b13305c559618ec78a438abc56230b9381f827f22d070313b9a1f3777"
   }
  }
 },
 "nbformat": 4,
 "nbformat_minor": 5
}
